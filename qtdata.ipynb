{
 "cells": [
  {
   "cell_type": "code",
   "execution_count": 1,
   "id": "6966eb4c",
   "metadata": {
    "scrolled": true
   },
   "outputs": [
    {
     "name": "stdout",
     "output_type": "stream",
     "text": [
      "Requirement already satisfied: yfinance in /opt/anaconda3/lib/python3.11/site-packages (0.2.38)\n",
      "Requirement already satisfied: pandas>=1.3.0 in /opt/anaconda3/lib/python3.11/site-packages (from yfinance) (2.1.4)\n",
      "Requirement already satisfied: numpy>=1.16.5 in /opt/anaconda3/lib/python3.11/site-packages (from yfinance) (1.26.4)\n",
      "Requirement already satisfied: requests>=2.31 in /opt/anaconda3/lib/python3.11/site-packages (from yfinance) (2.31.0)\n",
      "Requirement already satisfied: multitasking>=0.0.7 in /opt/anaconda3/lib/python3.11/site-packages (from yfinance) (0.0.11)\n",
      "Requirement already satisfied: lxml>=4.9.1 in /opt/anaconda3/lib/python3.11/site-packages (from yfinance) (4.9.3)\n",
      "Requirement already satisfied: appdirs>=1.4.4 in /opt/anaconda3/lib/python3.11/site-packages (from yfinance) (1.4.4)\n",
      "Requirement already satisfied: pytz>=2022.5 in /opt/anaconda3/lib/python3.11/site-packages (from yfinance) (2023.3.post1)\n",
      "Requirement already satisfied: frozendict>=2.3.4 in /opt/anaconda3/lib/python3.11/site-packages (from yfinance) (2.4.4)\n",
      "Requirement already satisfied: peewee>=3.16.2 in /opt/anaconda3/lib/python3.11/site-packages (from yfinance) (3.17.3)\n",
      "Requirement already satisfied: beautifulsoup4>=4.11.1 in /opt/anaconda3/lib/python3.11/site-packages (from yfinance) (4.12.2)\n",
      "Requirement already satisfied: html5lib>=1.1 in /opt/anaconda3/lib/python3.11/site-packages (from yfinance) (1.1)\n",
      "Requirement already satisfied: soupsieve>1.2 in /opt/anaconda3/lib/python3.11/site-packages (from beautifulsoup4>=4.11.1->yfinance) (2.5)\n",
      "Requirement already satisfied: six>=1.9 in /opt/anaconda3/lib/python3.11/site-packages (from html5lib>=1.1->yfinance) (1.16.0)\n",
      "Requirement already satisfied: webencodings in /opt/anaconda3/lib/python3.11/site-packages (from html5lib>=1.1->yfinance) (0.5.1)\n",
      "Requirement already satisfied: python-dateutil>=2.8.2 in /opt/anaconda3/lib/python3.11/site-packages (from pandas>=1.3.0->yfinance) (2.8.2)\n",
      "Requirement already satisfied: tzdata>=2022.1 in /opt/anaconda3/lib/python3.11/site-packages (from pandas>=1.3.0->yfinance) (2023.3)\n",
      "Requirement already satisfied: charset-normalizer<4,>=2 in /opt/anaconda3/lib/python3.11/site-packages (from requests>=2.31->yfinance) (2.0.4)\n",
      "Requirement already satisfied: idna<4,>=2.5 in /opt/anaconda3/lib/python3.11/site-packages (from requests>=2.31->yfinance) (3.4)\n",
      "Requirement already satisfied: urllib3<3,>=1.21.1 in /opt/anaconda3/lib/python3.11/site-packages (from requests>=2.31->yfinance) (1.25.10)\n",
      "Requirement already satisfied: certifi>=2017.4.17 in /opt/anaconda3/lib/python3.11/site-packages (from requests>=2.31->yfinance) (2024.2.2)\n",
      "Note: you may need to restart the kernel to use updated packages.\n"
     ]
    }
   ],
   "source": [
    "pip install yfinance --upgrade --no-cache-dir"
   ]
  },
  {
   "cell_type": "code",
   "execution_count": 2,
   "id": "44fda6ce",
   "metadata": {},
   "outputs": [
    {
     "name": "stdout",
     "output_type": "stream",
     "text": [
      "Requirement already satisfied: alpha-vantage in /opt/anaconda3/lib/python3.11/site-packages (2.3.1)\n",
      "Requirement already satisfied: aiohttp in /opt/anaconda3/lib/python3.11/site-packages (from alpha-vantage) (3.9.3)\n",
      "Requirement already satisfied: requests in /opt/anaconda3/lib/python3.11/site-packages (from alpha-vantage) (2.31.0)\n",
      "Requirement already satisfied: aiosignal>=1.1.2 in /opt/anaconda3/lib/python3.11/site-packages (from aiohttp->alpha-vantage) (1.2.0)\n",
      "Requirement already satisfied: attrs>=17.3.0 in /opt/anaconda3/lib/python3.11/site-packages (from aiohttp->alpha-vantage) (23.1.0)\n",
      "Requirement already satisfied: frozenlist>=1.1.1 in /opt/anaconda3/lib/python3.11/site-packages (from aiohttp->alpha-vantage) (1.4.0)\n",
      "Requirement already satisfied: multidict<7.0,>=4.5 in /opt/anaconda3/lib/python3.11/site-packages (from aiohttp->alpha-vantage) (6.0.4)\n",
      "Requirement already satisfied: yarl<2.0,>=1.0 in /opt/anaconda3/lib/python3.11/site-packages (from aiohttp->alpha-vantage) (1.9.3)\n",
      "Requirement already satisfied: charset-normalizer<4,>=2 in /opt/anaconda3/lib/python3.11/site-packages (from requests->alpha-vantage) (2.0.4)\n",
      "Requirement already satisfied: idna<4,>=2.5 in /opt/anaconda3/lib/python3.11/site-packages (from requests->alpha-vantage) (3.4)\n",
      "Requirement already satisfied: urllib3<3,>=1.21.1 in /opt/anaconda3/lib/python3.11/site-packages (from requests->alpha-vantage) (1.25.10)\n",
      "Requirement already satisfied: certifi>=2017.4.17 in /opt/anaconda3/lib/python3.11/site-packages (from requests->alpha-vantage) (2024.2.2)\n",
      "Note: you may need to restart the kernel to use updated packages.\n"
     ]
    }
   ],
   "source": [
    "pip install alpha-vantage"
   ]
  },
  {
   "cell_type": "markdown",
   "id": "5811a51f",
   "metadata": {},
   "source": [
    "## YAHOO FINANCE"
   ]
  },
  {
   "cell_type": "code",
   "execution_count": 3,
   "id": "96fc52c6",
   "metadata": {},
   "outputs": [],
   "source": [
    "# Import relevant libraries\n",
    "import os\n",
    "import numpy as np\n",
    "import pandas as pd\n",
    "import yfinance as yf\n",
    "import requests\n",
    "from datetime import datetime, timedelta"
   ]
  },
  {
   "cell_type": "code",
   "execution_count": 4,
   "id": "e9af50d2",
   "metadata": {},
   "outputs": [
    {
     "name": "stdout",
     "output_type": "stream",
     "text": [
      "NVDA AMD 005930.KS INTC TSM ASML 000660.KS MU AMZN MSFT GOOG ^IXIC ^GSPC ^SOX\n"
     ]
    }
   ],
   "source": [
    "# Set tickers\n",
    "ticker_target = 'NVDA'\n",
    "ticker_comp = 'AMD 005930.KS INTC' # AMD, Samsung, Intel\n",
    "ticker_supp = 'TSM ASML 000660.KS MU' # TSMC, ASML, SK Hynix\n",
    "ticker_other = 'AMZN MSFT GOOG' # Amazon, Microsoft, Google\n",
    "ticker_mkt = '^IXIC ^GSPC ^SOX'# Indices - Nasdaq composite, S&P500, PHLX Semiconductor\n",
    "ticker_all  = \" \".join([ticker_target, ticker_comp, ticker_supp, ticker_other, ticker_mkt])\n",
    "\n",
    "# Print to check \n",
    "print(ticker_all)"
   ]
  },
  {
   "cell_type": "code",
   "execution_count": 5,
   "id": "ed02387a",
   "metadata": {},
   "outputs": [
    {
     "name": "stdout",
     "output_type": "stream",
     "text": [
      "2024-05-08\n",
      "2019-05-10\n"
     ]
    }
   ],
   "source": [
    "# Set end date\n",
    "project_start = datetime(2024, 5, 8).date()\n",
    "end_date = project_start.strftime('%Y-%m-%d')\n",
    "\n",
    "# Set start date\n",
    "timeframe = 365 * 5 # Number of days \n",
    "start = project_start - timedelta(days=timeframe)\n",
    "start_date = start.strftime('%Y-%m-%d')\n",
    "\n",
    "# Print to check\n",
    "print(end_date)\n",
    "print(start_date)"
   ]
  },
  {
   "cell_type": "markdown",
   "id": "d084e7b2",
   "metadata": {},
   "source": [
    "### PRICE"
   ]
  },
  {
   "cell_type": "code",
   "execution_count": 6,
   "id": "5dd26165",
   "metadata": {},
   "outputs": [
    {
     "name": "stderr",
     "output_type": "stream",
     "text": [
      "[*********************100%%**********************]  14 of 14 completed"
     ]
    },
    {
     "name": "stdout",
     "output_type": "stream",
     "text": [
      "Price      Adj Close                                                \\\n",
      "Ticker     000660.KS 005930.KS         AMD        AMZN        ASML   \n",
      "Date                                                                 \n",
      "2024-05-01       NaN       NaN  144.270004  179.000000  852.840027   \n",
      "2024-05-02  173600.0   78000.0  146.160004  184.720001  870.280029   \n",
      "2024-05-03  173200.0   77600.0  150.600006  186.210007  901.630005   \n",
      "2024-05-06       NaN       NaN  155.779999  188.699997  916.919983   \n",
      "2024-05-07  179600.0   81300.0  154.429993  188.759995  908.219971   \n",
      "\n",
      "Price                                                                  ...  \\\n",
      "Ticker            GOOG       INTC        MSFT          MU        NVDA  ...   \n",
      "Date                                                                   ...   \n",
      "2024-05-01  165.570007  30.247145  394.940002  109.699997  830.409973  ...   \n",
      "2024-05-02  168.460007  30.386578  397.839996  112.330002  858.169983  ...   \n",
      "2024-05-03  168.990005  30.775000  406.660004  114.699997  887.890015  ...   \n",
      "2024-05-06  169.830002  30.969999  413.540009  120.129997  921.400024  ...   \n",
      "2024-05-07  172.979996  30.680000  409.339996  119.209999  905.539978  ...   \n",
      "\n",
      "Price          Volume                                                  \\\n",
      "Ticker           ASML        GOOG        INTC        MSFT          MU   \n",
      "Date                                                                    \n",
      "2024-05-01  1458200.0  25223200.0  60654800.0  23562500.0  16686200.0   \n",
      "2024-05-02   876800.0  17041100.0  50899400.0  17709400.0  15439200.0   \n",
      "2024-05-03  1038000.0  22767100.0  36794800.0  17446700.0  15564400.0   \n",
      "2024-05-06   642000.0  15147900.0  36185600.0  16996600.0  22538700.0   \n",
      "2024-05-07   655000.0  21102400.0  44683400.0  20018200.0  12508300.0   \n",
      "\n",
      "Price                                                                \n",
      "Ticker            NVDA         TSM         ^GSPC         ^IXIC ^SOX  \n",
      "Date                                                                 \n",
      "2024-05-01  55986300.0  12561800.0  4.544170e+09  5.277790e+09  0.0  \n",
      "2024-05-02  37789800.0   9261900.0  4.381660e+09  4.901610e+09  0.0  \n",
      "2024-05-03  39834100.0  13264300.0  3.924990e+09  4.887310e+09  0.0  \n",
      "2024-05-06  37620300.0   8601600.0  3.683250e+09  4.460130e+09  0.0  \n",
      "2024-05-07  43734200.0   8682900.0  3.987890e+09  5.041870e+09  0.0  \n",
      "\n",
      "[5 rows x 84 columns]\n",
      "<class 'pandas.core.frame.DataFrame'>\n",
      "DatetimeIndex: 1296 entries, 2019-05-10 to 2024-05-07\n",
      "Data columns (total 84 columns):\n",
      " #   Column                  Non-Null Count  Dtype  \n",
      "---  ------                  --------------  -----  \n",
      " 0   (Adj Close, 000660.KS)  1230 non-null   float64\n",
      " 1   (Adj Close, 005930.KS)  1230 non-null   float64\n",
      " 2   (Adj Close, AMD)        1257 non-null   float64\n",
      " 3   (Adj Close, AMZN)       1257 non-null   float64\n",
      " 4   (Adj Close, ASML)       1257 non-null   float64\n",
      " 5   (Adj Close, GOOG)       1257 non-null   float64\n",
      " 6   (Adj Close, INTC)       1257 non-null   float64\n",
      " 7   (Adj Close, MSFT)       1257 non-null   float64\n",
      " 8   (Adj Close, MU)         1257 non-null   float64\n",
      " 9   (Adj Close, NVDA)       1257 non-null   float64\n",
      " 10  (Adj Close, TSM)        1257 non-null   float64\n",
      " 11  (Adj Close, ^GSPC)      1257 non-null   float64\n",
      " 12  (Adj Close, ^IXIC)      1257 non-null   float64\n",
      " 13  (Adj Close, ^SOX)       1257 non-null   float64\n",
      " 14  (Close, 000660.KS)      1230 non-null   float64\n",
      " 15  (Close, 005930.KS)      1230 non-null   float64\n",
      " 16  (Close, AMD)            1257 non-null   float64\n",
      " 17  (Close, AMZN)           1257 non-null   float64\n",
      " 18  (Close, ASML)           1257 non-null   float64\n",
      " 19  (Close, GOOG)           1257 non-null   float64\n",
      " 20  (Close, INTC)           1257 non-null   float64\n",
      " 21  (Close, MSFT)           1257 non-null   float64\n",
      " 22  (Close, MU)             1257 non-null   float64\n",
      " 23  (Close, NVDA)           1257 non-null   float64\n",
      " 24  (Close, TSM)            1257 non-null   float64\n",
      " 25  (Close, ^GSPC)          1257 non-null   float64\n",
      " 26  (Close, ^IXIC)          1257 non-null   float64\n",
      " 27  (Close, ^SOX)           1257 non-null   float64\n",
      " 28  (High, 000660.KS)       1230 non-null   float64\n",
      " 29  (High, 005930.KS)       1230 non-null   float64\n",
      " 30  (High, AMD)             1257 non-null   float64\n",
      " 31  (High, AMZN)            1257 non-null   float64\n",
      " 32  (High, ASML)            1257 non-null   float64\n",
      " 33  (High, GOOG)            1257 non-null   float64\n",
      " 34  (High, INTC)            1257 non-null   float64\n",
      " 35  (High, MSFT)            1257 non-null   float64\n",
      " 36  (High, MU)              1257 non-null   float64\n",
      " 37  (High, NVDA)            1257 non-null   float64\n",
      " 38  (High, TSM)             1257 non-null   float64\n",
      " 39  (High, ^GSPC)           1257 non-null   float64\n",
      " 40  (High, ^IXIC)           1257 non-null   float64\n",
      " 41  (High, ^SOX)            1257 non-null   float64\n",
      " 42  (Low, 000660.KS)        1230 non-null   float64\n",
      " 43  (Low, 005930.KS)        1230 non-null   float64\n",
      " 44  (Low, AMD)              1257 non-null   float64\n",
      " 45  (Low, AMZN)             1257 non-null   float64\n",
      " 46  (Low, ASML)             1257 non-null   float64\n",
      " 47  (Low, GOOG)             1257 non-null   float64\n",
      " 48  (Low, INTC)             1257 non-null   float64\n",
      " 49  (Low, MSFT)             1257 non-null   float64\n",
      " 50  (Low, MU)               1257 non-null   float64\n",
      " 51  (Low, NVDA)             1257 non-null   float64\n",
      " 52  (Low, TSM)              1257 non-null   float64\n",
      " 53  (Low, ^GSPC)            1257 non-null   float64\n",
      " 54  (Low, ^IXIC)            1257 non-null   float64\n",
      " 55  (Low, ^SOX)             1257 non-null   float64\n",
      " 56  (Open, 000660.KS)       1230 non-null   float64\n",
      " 57  (Open, 005930.KS)       1230 non-null   float64\n",
      " 58  (Open, AMD)             1257 non-null   float64\n",
      " 59  (Open, AMZN)            1257 non-null   float64\n",
      " 60  (Open, ASML)            1257 non-null   float64\n",
      " 61  (Open, GOOG)            1257 non-null   float64\n",
      " 62  (Open, INTC)            1257 non-null   float64\n",
      " 63  (Open, MSFT)            1257 non-null   float64\n",
      " 64  (Open, MU)              1257 non-null   float64\n",
      " 65  (Open, NVDA)            1257 non-null   float64\n",
      " 66  (Open, TSM)             1257 non-null   float64\n",
      " 67  (Open, ^GSPC)           1257 non-null   float64\n",
      " 68  (Open, ^IXIC)           1257 non-null   float64\n",
      " 69  (Open, ^SOX)            1257 non-null   float64\n",
      " 70  (Volume, 000660.KS)     1230 non-null   float64\n",
      " 71  (Volume, 005930.KS)     1230 non-null   float64\n",
      " 72  (Volume, AMD)           1257 non-null   float64\n",
      " 73  (Volume, AMZN)          1257 non-null   float64\n",
      " 74  (Volume, ASML)          1257 non-null   float64\n",
      " 75  (Volume, GOOG)          1257 non-null   float64\n",
      " 76  (Volume, INTC)          1257 non-null   float64\n",
      " 77  (Volume, MSFT)          1257 non-null   float64\n",
      " 78  (Volume, MU)            1257 non-null   float64\n",
      " 79  (Volume, NVDA)          1257 non-null   float64\n",
      " 80  (Volume, TSM)           1257 non-null   float64\n",
      " 81  (Volume, ^GSPC)         1257 non-null   float64\n",
      " 82  (Volume, ^IXIC)         1257 non-null   float64\n",
      " 83  (Volume, ^SOX)          1257 non-null   float64\n",
      "dtypes: float64(84)\n",
      "memory usage: 860.6 KB\n",
      "None\n"
     ]
    },
    {
     "name": "stderr",
     "output_type": "stream",
     "text": [
      "\n"
     ]
    }
   ],
   "source": [
    "# Load stock data into a DataFrame\n",
    "df = yf.download(ticker_all, start=start_date, end=end_date)\n",
    "\n",
    "# Print to check\n",
    "print(df.tail())\n",
    "print(df.info())"
   ]
  },
  {
   "cell_type": "code",
   "execution_count": 7,
   "id": "fccc543d",
   "metadata": {},
   "outputs": [
    {
     "name": "stdout",
     "output_type": "stream",
     "text": [
      "Ticker      000660.KS  005930.KS         AMD        AMZN        ASML  \\\n",
      "Date                                                                   \n",
      "2024-05-01        NaN        NaN  144.270004  179.000000  852.840027   \n",
      "2024-05-02   173600.0    78000.0  146.160004  184.720001  870.280029   \n",
      "2024-05-03   173200.0    77600.0  150.600006  186.210007  901.630005   \n",
      "2024-05-06        NaN        NaN  155.779999  188.699997  916.919983   \n",
      "2024-05-07   179600.0    81300.0  154.429993  188.759995  908.219971   \n",
      "\n",
      "Ticker            GOOG       INTC        MSFT          MU        NVDA  \\\n",
      "Date                                                                    \n",
      "2024-05-01  165.570007  30.247145  394.940002  109.699997  830.409973   \n",
      "2024-05-02  168.460007  30.386578  397.839996  112.330002  858.169983   \n",
      "2024-05-03  168.990005  30.775000  406.660004  114.699997  887.890015   \n",
      "2024-05-06  169.830002  30.969999  413.540009  120.129997  921.400024   \n",
      "2024-05-07  172.979996  30.680000  409.339996  119.209999  905.539978   \n",
      "\n",
      "Ticker             TSM        ^GSPC         ^IXIC         ^SOX  \n",
      "Date                                                            \n",
      "2024-05-01  134.940002  5018.390137  15605.480469  4507.680176  \n",
      "2024-05-02  136.229996  5064.200195  15840.959961  4605.350098  \n",
      "2024-05-03  141.559998  5127.790039  16156.330078  4716.189941  \n",
      "2024-05-06  142.830002  5180.740234  16349.250000  4820.450195  \n",
      "2024-05-07  141.110001  5187.700195  16332.559570  4784.879883  \n",
      "<class 'pandas.core.frame.DataFrame'>\n",
      "DatetimeIndex: 1296 entries, 2019-05-10 to 2024-05-07\n",
      "Data columns (total 14 columns):\n",
      " #   Column     Non-Null Count  Dtype  \n",
      "---  ------     --------------  -----  \n",
      " 0   000660.KS  1230 non-null   float64\n",
      " 1   005930.KS  1230 non-null   float64\n",
      " 2   AMD        1257 non-null   float64\n",
      " 3   AMZN       1257 non-null   float64\n",
      " 4   ASML       1257 non-null   float64\n",
      " 5   GOOG       1257 non-null   float64\n",
      " 6   INTC       1257 non-null   float64\n",
      " 7   MSFT       1257 non-null   float64\n",
      " 8   MU         1257 non-null   float64\n",
      " 9   NVDA       1257 non-null   float64\n",
      " 10  TSM        1257 non-null   float64\n",
      " 11  ^GSPC      1257 non-null   float64\n",
      " 12  ^IXIC      1257 non-null   float64\n",
      " 13  ^SOX       1257 non-null   float64\n",
      "dtypes: float64(14)\n",
      "memory usage: 151.9 KB\n",
      "None\n"
     ]
    }
   ],
   "source": [
    "# Create new DataFrame with only close prices\n",
    "new_df = df['Adj Close']\n",
    "\n",
    "# Print to check\n",
    "print(new_df.tail())\n",
    "print(new_df.info())"
   ]
  },
  {
   "cell_type": "code",
   "execution_count": 8,
   "id": "6fa2384e",
   "metadata": {},
   "outputs": [],
   "source": [
    "# Forward fill new_df\n",
    "new_df = new_df.ffill(axis=0)"
   ]
  },
  {
   "cell_type": "code",
   "execution_count": 9,
   "id": "ea5c83ac",
   "metadata": {},
   "outputs": [
    {
     "name": "stdout",
     "output_type": "stream",
     "text": [
      "<class 'pandas.core.frame.DataFrame'>\n",
      "DatetimeIndex: 1296 entries, 2019-05-10 to 2024-05-07\n",
      "Data columns (total 28 columns):\n",
      " #   Column         Non-Null Count  Dtype  \n",
      "---  ------         --------------  -----  \n",
      " 0   000660.KS      1296 non-null   float64\n",
      " 1   005930.KS      1296 non-null   float64\n",
      " 2   AMD            1296 non-null   float64\n",
      " 3   AMZN           1296 non-null   float64\n",
      " 4   ASML           1296 non-null   float64\n",
      " 5   GOOG           1296 non-null   float64\n",
      " 6   INTC           1296 non-null   float64\n",
      " 7   MSFT           1296 non-null   float64\n",
      " 8   MU             1296 non-null   float64\n",
      " 9   NVDA           1296 non-null   float64\n",
      " 10  TSM            1296 non-null   float64\n",
      " 11  ^GSPC          1296 non-null   float64\n",
      " 12  ^IXIC          1296 non-null   float64\n",
      " 13  ^SOX           1296 non-null   float64\n",
      " 14  000660.KS_chg  1295 non-null   float64\n",
      " 15  005930.KS_chg  1295 non-null   float64\n",
      " 16  AMD_chg        1295 non-null   float64\n",
      " 17  AMZN_chg       1295 non-null   float64\n",
      " 18  ASML_chg       1295 non-null   float64\n",
      " 19  GOOG_chg       1295 non-null   float64\n",
      " 20  INTC_chg       1295 non-null   float64\n",
      " 21  MSFT_chg       1295 non-null   float64\n",
      " 22  MU_chg         1295 non-null   float64\n",
      " 23  NVDA_chg       1295 non-null   float64\n",
      " 24  TSM_chg        1295 non-null   float64\n",
      " 25  ^GSPC_chg      1295 non-null   float64\n",
      " 26  ^IXIC_chg      1295 non-null   float64\n",
      " 27  ^SOX_chg       1295 non-null   float64\n",
      "dtypes: float64(28)\n",
      "memory usage: 293.6 KB\n",
      "None\n",
      "Ticker         000660.KS     005930.KS        AMD       AMZN        ASML  \\\n",
      "Date                                                                       \n",
      "2019-05-10  70162.523438  37687.656250  27.959999  94.499001  189.950531   \n",
      "2019-05-13  69313.796875  37468.031250  26.240000  91.134003  182.017609   \n",
      "2019-05-14  70351.148438  37468.031250  27.320000  92.005997  189.281448   \n",
      "2019-05-15  70256.835938  37380.187500  27.580000  93.557503  191.756927   \n",
      "2019-05-16  67804.921875  36501.683594  28.010000  95.378502  193.200150   \n",
      "\n",
      "Ticker           GOOG       INTC        MSFT         MU       NVDA  ...  \\\n",
      "Date                                                                ...   \n",
      "2019-05-10  58.213501  40.513161  121.014084  38.244068  41.918369  ...   \n",
      "2019-05-13  56.601501  39.250404  117.415924  36.711952  39.343468  ...   \n",
      "2019-05-14  56.021999  39.609940  118.729538  37.821766  40.234871  ...   \n",
      "2019-05-15  58.210499  40.004547  120.401520  37.723545  39.624050  ...   \n",
      "2019-05-16  58.949001  39.925625  123.181755  36.643200  39.775520  ...   \n",
      "\n",
      "Ticker      ASML_chg  GOOG_chg  INTC_chg  MSFT_chg    MU_chg  NVDA_chg  \\\n",
      "Date                                                                     \n",
      "2019-05-10       NaN       NaN       NaN       NaN       NaN       NaN   \n",
      "2019-05-13 -4.176310 -2.769116 -3.116904 -2.973340 -4.006153 -6.142657   \n",
      "2019-05-14  3.990735 -1.023828  0.916004  1.118770  3.023031  2.265696   \n",
      "2019-05-15  1.307830  3.906500  0.996234  1.408227 -0.259694 -1.518138   \n",
      "2019-05-16  0.752631  1.268676 -0.197283  2.309136 -2.863848  0.382268   \n",
      "\n",
      "Ticker       TSM_chg  ^GSPC_chg  ^IXIC_chg  ^SOX_chg  \n",
      "Date                                                  \n",
      "2019-05-10       NaN        NaN        NaN       NaN  \n",
      "2019-05-13 -4.296071  -2.413056  -3.409397 -4.727937  \n",
      "2019-05-14  2.390822   0.801594   1.143847  2.404628  \n",
      "2019-05-15  0.000000   0.583898   1.133361  0.808830  \n",
      "2019-05-16 -1.048366   0.889529   0.970320 -1.676866  \n",
      "\n",
      "[5 rows x 28 columns]\n"
     ]
    }
   ],
   "source": [
    "# Create columns with daily price perc change using for loop\n",
    "for column in new_df.columns:\n",
    "    new_df[f'{column}_chg'] = new_df[column].pct_change() * 100\n",
    "    \n",
    "# Print new_df to check\n",
    "print(new_df.info())\n",
    "print(new_df.head())"
   ]
  },
  {
   "cell_type": "code",
   "execution_count": 10,
   "id": "bde7de0e",
   "metadata": {},
   "outputs": [
    {
     "name": "stdout",
     "output_type": "stream",
     "text": [
      "<class 'pandas.core.frame.DataFrame'>\n",
      "RangeIndex: 1296 entries, 0 to 1295\n",
      "Data columns (total 29 columns):\n",
      " #   Column         Non-Null Count  Dtype         \n",
      "---  ------         --------------  -----         \n",
      " 0   Date           1296 non-null   datetime64[ns]\n",
      " 1   000660.KS      1296 non-null   float64       \n",
      " 2   005930.KS      1296 non-null   float64       \n",
      " 3   AMD            1296 non-null   float64       \n",
      " 4   AMZN           1296 non-null   float64       \n",
      " 5   ASML           1296 non-null   float64       \n",
      " 6   GOOG           1296 non-null   float64       \n",
      " 7   INTC           1296 non-null   float64       \n",
      " 8   MSFT           1296 non-null   float64       \n",
      " 9   MU             1296 non-null   float64       \n",
      " 10  NVDA           1296 non-null   float64       \n",
      " 11  TSM            1296 non-null   float64       \n",
      " 12  ^GSPC          1296 non-null   float64       \n",
      " 13  ^IXIC          1296 non-null   float64       \n",
      " 14  ^SOX           1296 non-null   float64       \n",
      " 15  000660.KS_chg  1295 non-null   float64       \n",
      " 16  005930.KS_chg  1295 non-null   float64       \n",
      " 17  AMD_chg        1295 non-null   float64       \n",
      " 18  AMZN_chg       1295 non-null   float64       \n",
      " 19  ASML_chg       1295 non-null   float64       \n",
      " 20  GOOG_chg       1295 non-null   float64       \n",
      " 21  INTC_chg       1295 non-null   float64       \n",
      " 22  MSFT_chg       1295 non-null   float64       \n",
      " 23  MU_chg         1295 non-null   float64       \n",
      " 24  NVDA_chg       1295 non-null   float64       \n",
      " 25  TSM_chg        1295 non-null   float64       \n",
      " 26  ^GSPC_chg      1295 non-null   float64       \n",
      " 27  ^IXIC_chg      1295 non-null   float64       \n",
      " 28  ^SOX_chg       1295 non-null   float64       \n",
      "dtypes: datetime64[ns](1), float64(28)\n",
      "memory usage: 293.8 KB\n",
      "None\n"
     ]
    }
   ],
   "source": [
    "# Reset index of new_df\n",
    "new_df.reset_index(inplace=True)\n",
    "\n",
    "# Print to check\n",
    "print(new_df.info())"
   ]
  },
  {
   "cell_type": "markdown",
   "id": "3e34b2c9",
   "metadata": {},
   "source": [
    "### ANALYST UP/DOWNGRADES"
   ]
  },
  {
   "cell_type": "code",
   "execution_count": 11,
   "id": "6db53820",
   "metadata": {},
   "outputs": [],
   "source": [
    "# Set ticker to NVDA\n",
    "ticker = yf.Ticker('NVDA')"
   ]
  },
  {
   "cell_type": "code",
   "execution_count": 12,
   "id": "caf04ac3",
   "metadata": {},
   "outputs": [
    {
     "name": "stdout",
     "output_type": "stream",
     "text": [
      "                                   Firm      ToGrade       FromGrade Action\n",
      "GradeDate                                                                  \n",
      "2024-05-10 15:09:21                HSBC          Buy             Buy   main\n",
      "2024-05-07 12:00:45       Goldman Sachs          Buy             Buy   main\n",
      "2024-04-30 15:23:13                 UBS          Buy             Buy   main\n",
      "2024-04-16 09:19:10  Evercore ISI Group   Outperform                   init\n",
      "2024-04-11 17:08:47       Raymond James   Strong Buy      Strong Buy   main\n",
      "...                                 ...          ...             ...    ...\n",
      "2012-05-14 10:19:00           Jefferies         Hold                   main\n",
      "2012-04-05 11:07:00   Cantor Fitzgerald          Buy                   init\n",
      "2012-02-16 12:29:00  Evercore ISI Group  Underweight                   main\n",
      "2012-02-16 11:34:00   B of A Securities      Neutral             Buy   down\n",
      "2012-02-13 12:27:00         FBR Capital   Outperform  Market Perform     up\n",
      "\n",
      "[720 rows x 4 columns]\n"
     ]
    }
   ],
   "source": [
    "# Get upgrades/downgrades data\n",
    "updown_df = ticker.upgrades_downgrades\n",
    "\n",
    "# Print to check\n",
    "print(updown_df)"
   ]
  },
  {
   "cell_type": "code",
   "execution_count": 13,
   "id": "123bb07e",
   "metadata": {},
   "outputs": [
    {
     "data": {
      "text/plain": [
       "array(['main', 'init', 'reit', 'down', 'up'], dtype=object)"
      ]
     },
     "execution_count": 13,
     "metadata": {},
     "output_type": "execute_result"
    }
   ],
   "source": [
    "# Check unique values of Action column\n",
    "updown_df['Action'].unique()"
   ]
  },
  {
   "cell_type": "code",
   "execution_count": 14,
   "id": "a5fd3ef3",
   "metadata": {},
   "outputs": [
    {
     "name": "stdout",
     "output_type": "stream",
     "text": [
      "619\n"
     ]
    }
   ],
   "source": [
    "# Count the rows that are not upgrades or downgrades\n",
    "count = updown_df[(updown_df['Action'] == 'main') | (updown_df['Action'] == 'init') | (updown_df['Action'] == 'reit')].shape[0]\n",
    "print(count)"
   ]
  },
  {
   "cell_type": "code",
   "execution_count": 15,
   "id": "96bfdaed",
   "metadata": {},
   "outputs": [
    {
     "name": "stdout",
     "output_type": "stream",
     "text": [
      "<class 'pandas.core.frame.DataFrame'>\n",
      "DatetimeIndex: 101 entries, 2023-11-22 16:59:10 to 2012-02-13 12:27:00\n",
      "Data columns (total 4 columns):\n",
      " #   Column     Non-Null Count  Dtype \n",
      "---  ------     --------------  ----- \n",
      " 0   Firm       101 non-null    object\n",
      " 1   ToGrade    101 non-null    object\n",
      " 2   FromGrade  101 non-null    object\n",
      " 3   Action     101 non-null    object\n",
      "dtypes: object(4)\n",
      "memory usage: 3.9+ KB\n",
      "None\n"
     ]
    }
   ],
   "source": [
    "# Drop rows that are not upgrades or downgrades\n",
    "fupdown_df = updown_df.drop(updown_df[(updown_df['Action'] == 'main') | (updown_df['Action'] == 'init') | (updown_df['Action'] == 'reit')].index)\n",
    "\n",
    "# Print to check\n",
    "print(fupdown_df.info())"
   ]
  },
  {
   "cell_type": "code",
   "execution_count": 16,
   "id": "52f42516",
   "metadata": {},
   "outputs": [
    {
     "name": "stdout",
     "output_type": "stream",
     "text": [
      "<class 'pandas.core.frame.DataFrame'>\n",
      "DatetimeIndex: 101 entries, 2023-11-22 16:59:10 to 2012-02-13 12:27:00\n",
      "Data columns (total 4 columns):\n",
      " #   Column     Non-Null Count  Dtype \n",
      "---  ------     --------------  ----- \n",
      " 0   Firm       101 non-null    object\n",
      " 1   ToGrade    101 non-null    object\n",
      " 2   FromGrade  101 non-null    object\n",
      " 3   Action     101 non-null    int64 \n",
      "dtypes: int64(1), object(3)\n",
      "memory usage: 3.9+ KB\n",
      "None\n"
     ]
    }
   ],
   "source": [
    "# Update values of Action column to integers\n",
    "fupdown_df['Action'] = fupdown_df['Action'].replace({'up': 1, 'down': -1})\n",
    "\n",
    "# Print to check\n",
    "print(fupdown_df.info())"
   ]
  },
  {
   "cell_type": "code",
   "execution_count": 17,
   "id": "7d0398b7",
   "metadata": {},
   "outputs": [
    {
     "name": "stdout",
     "output_type": "stream",
     "text": [
      "<class 'pandas.core.frame.DataFrame'>\n",
      "RangeIndex: 101 entries, 0 to 100\n",
      "Data columns (total 2 columns):\n",
      " #   Column  Non-Null Count  Dtype         \n",
      "---  ------  --------------  -----         \n",
      " 0   Date    101 non-null    datetime64[ns]\n",
      " 1   Action  101 non-null    int64         \n",
      "dtypes: datetime64[ns](1), int64(1)\n",
      "memory usage: 1.7 KB\n",
      "None\n"
     ]
    }
   ],
   "source": [
    "# Drop irrelevant columns\n",
    "irr_col = ['Firm', 'ToGrade', 'FromGrade']\n",
    "fupdown_df = fupdown_df.drop(irr_col, axis = 1)\n",
    "\n",
    "# Reset index of fupdown_df\n",
    "fupdown_df.reset_index(inplace=True)\n",
    "\n",
    "# Rename column\n",
    "fupdown_df.rename(columns={'GradeDate': 'Date'}, inplace=True)\n",
    "\n",
    "# Change Date to exclude time\n",
    "fupdown_df['Date'] = fupdown_df['Date'].dt.normalize()\n",
    "\n",
    "# Print to check\n",
    "print(fupdown_df.info())"
   ]
  },
  {
   "cell_type": "code",
   "execution_count": 18,
   "id": "f1f3cda9",
   "metadata": {},
   "outputs": [
    {
     "name": "stdout",
     "output_type": "stream",
     "text": [
      "<class 'pandas.core.frame.DataFrame'>\n",
      "RangeIndex: 92 entries, 0 to 91\n",
      "Data columns (total 2 columns):\n",
      " #   Column  Non-Null Count  Dtype         \n",
      "---  ------  --------------  -----         \n",
      " 0   Date    92 non-null     datetime64[ns]\n",
      " 1   Action  92 non-null     int64         \n",
      "dtypes: datetime64[ns](1), int64(1)\n",
      "memory usage: 1.6 KB\n",
      "None\n"
     ]
    }
   ],
   "source": [
    "# Combine Action values for each date\n",
    "fupdown_df = fupdown_df.groupby('Date')['Action'].sum().reset_index()\n",
    "\n",
    "# Print to check\n",
    "print(fupdown_df.info())"
   ]
  },
  {
   "cell_type": "code",
   "execution_count": 19,
   "id": "6ec08dca",
   "metadata": {},
   "outputs": [
    {
     "name": "stdout",
     "output_type": "stream",
     "text": [
      "<class 'pandas.core.frame.DataFrame'>\n",
      "RangeIndex: 1296 entries, 0 to 1295\n",
      "Data columns (total 30 columns):\n",
      " #   Column         Non-Null Count  Dtype         \n",
      "---  ------         --------------  -----         \n",
      " 0   Date           1296 non-null   datetime64[ns]\n",
      " 1   000660.KS      1296 non-null   float64       \n",
      " 2   005930.KS      1296 non-null   float64       \n",
      " 3   AMD            1296 non-null   float64       \n",
      " 4   AMZN           1296 non-null   float64       \n",
      " 5   ASML           1296 non-null   float64       \n",
      " 6   GOOG           1296 non-null   float64       \n",
      " 7   INTC           1296 non-null   float64       \n",
      " 8   MSFT           1296 non-null   float64       \n",
      " 9   MU             1296 non-null   float64       \n",
      " 10  NVDA           1296 non-null   float64       \n",
      " 11  TSM            1296 non-null   float64       \n",
      " 12  ^GSPC          1296 non-null   float64       \n",
      " 13  ^IXIC          1296 non-null   float64       \n",
      " 14  ^SOX           1296 non-null   float64       \n",
      " 15  000660.KS_chg  1295 non-null   float64       \n",
      " 16  005930.KS_chg  1295 non-null   float64       \n",
      " 17  AMD_chg        1295 non-null   float64       \n",
      " 18  AMZN_chg       1295 non-null   float64       \n",
      " 19  ASML_chg       1295 non-null   float64       \n",
      " 20  GOOG_chg       1295 non-null   float64       \n",
      " 21  INTC_chg       1295 non-null   float64       \n",
      " 22  MSFT_chg       1295 non-null   float64       \n",
      " 23  MU_chg         1295 non-null   float64       \n",
      " 24  NVDA_chg       1295 non-null   float64       \n",
      " 25  TSM_chg        1295 non-null   float64       \n",
      " 26  ^GSPC_chg      1295 non-null   float64       \n",
      " 27  ^IXIC_chg      1295 non-null   float64       \n",
      " 28  ^SOX_chg       1295 non-null   float64       \n",
      " 29  Action         29 non-null     float64       \n",
      "dtypes: datetime64[ns](1), float64(29)\n",
      "memory usage: 303.9 KB\n",
      "None\n"
     ]
    }
   ],
   "source": [
    "# Merge Action column into new_df\n",
    "new_df = pd.merge(new_df, fupdown_df, on='Date', how='left')\n",
    "\n",
    "# Print to check\n",
    "print(new_df.info())"
   ]
  },
  {
   "cell_type": "markdown",
   "id": "4dd97a4d",
   "metadata": {},
   "source": [
    "## BARCHART"
   ]
  },
  {
   "cell_type": "markdown",
   "id": "298f64f6",
   "metadata": {},
   "source": [
    "### INSIDER TRANSACTIONS"
   ]
  },
  {
   "cell_type": "code",
   "execution_count": 20,
   "id": "9896fa59",
   "metadata": {},
   "outputs": [
    {
     "name": "stdout",
     "output_type": "stream",
     "text": [
      "<class 'pandas.core.frame.DataFrame'>\n",
      "RangeIndex: 282 entries, 0 to 281\n",
      "Data columns (total 9 columns):\n",
      " #   Column        Non-Null Count  Dtype  \n",
      "---  ------        --------------  -----  \n",
      " 0   Date          282 non-null    object \n",
      " 1   Insider Name  282 non-null    object \n",
      " 2   Title         180 non-null    object \n",
      " 3   Transaction   282 non-null    object \n",
      " 4   Shares        282 non-null    int64  \n",
      " 5   @Price        282 non-null    float64\n",
      " 6   Trans Total   282 non-null    int64  \n",
      " 7   Shares After  282 non-null    int64  \n",
      " 8   %Held After   282 non-null    float64\n",
      "dtypes: float64(2), int64(3), object(4)\n",
      "memory usage: 20.0+ KB\n",
      "None\n",
      "           Date      Insider Name          Title          Transaction  Shares  \\\n",
      "277  2019-03-20  Timothy S. Teter  Gen Cou & Sec  Sale Post-exercise*    1790   \n",
      "278  2019-03-20    Dr. Jay K Puri      VP of Ops  Sale Post-exercise*   29312   \n",
      "279  2019-03-20   Dr Jensen Huang            CEO  Sale Post-exercise*  115359   \n",
      "280  2019-03-01     Michael Byron            CAO                 Sell     114   \n",
      "281  2019-01-02   Debora Shoquist      VP of Ops                 Sell    6345   \n",
      "\n",
      "       @Price  Trans Total  Shares After  %Held After  \n",
      "277  174.4000       312177         67766       0.0112  \n",
      "278  174.4000      5112013        289234       0.0477  \n",
      "279  174.4000     20118609      21832521       3.6027  \n",
      "280  154.7651        17644         77888       0.0129  \n",
      "281  135.3326       858685        177911       0.0292  \n"
     ]
    }
   ],
   "source": [
    "# Get directory\n",
    "current_dir = os.getcwd()\n",
    "\n",
    "# Set folder path\n",
    "folder_path = os.path.join(current_dir, 'raw')\n",
    "\n",
    "# Create the file path\n",
    "file_path_ins = os.path.join(folder_path, 'nvda_ins_sale.csv')\n",
    "\n",
    "# Import data from csv\n",
    "ins_df = pd.read_csv(file_path_ins)\n",
    "\n",
    "# Print to check\n",
    "print(ins_df.info())\n",
    "print(ins_df.tail())"
   ]
  },
  {
   "cell_type": "code",
   "execution_count": 21,
   "id": "d94f76e2",
   "metadata": {},
   "outputs": [
    {
     "name": "stdout",
     "output_type": "stream",
     "text": [
      "<class 'pandas.core.frame.DataFrame'>\n",
      "RangeIndex: 282 entries, 0 to 281\n",
      "Data columns (total 9 columns):\n",
      " #   Column        Non-Null Count  Dtype         \n",
      "---  ------        --------------  -----         \n",
      " 0   Date          282 non-null    datetime64[ns]\n",
      " 1   Insider Name  282 non-null    object        \n",
      " 2   Title         180 non-null    object        \n",
      " 3   Transaction   282 non-null    object        \n",
      " 4   Shares        282 non-null    int64         \n",
      " 5   @Price        282 non-null    float64       \n",
      " 6   Trans Total   282 non-null    int64         \n",
      " 7   Shares After  282 non-null    int64         \n",
      " 8   %Held After   282 non-null    float64       \n",
      "dtypes: datetime64[ns](1), float64(2), int64(3), object(3)\n",
      "memory usage: 20.0+ KB\n",
      "None\n"
     ]
    }
   ],
   "source": [
    "# Convert Date to datetime format\n",
    "ins_df['Date'] = pd.to_datetime(ins_df['Date'])\n",
    "\n",
    "# Print to check\n",
    "print(ins_df.info())"
   ]
  },
  {
   "cell_type": "code",
   "execution_count": 22,
   "id": "fe0345b0",
   "metadata": {},
   "outputs": [
    {
     "name": "stdout",
     "output_type": "stream",
     "text": [
      "<class 'pandas.core.frame.DataFrame'>\n",
      "RangeIndex: 155 entries, 0 to 154\n",
      "Data columns (total 2 columns):\n",
      " #   Column       Non-Null Count  Dtype         \n",
      "---  ------       --------------  -----         \n",
      " 0   Date         155 non-null    datetime64[ns]\n",
      " 1   Trans Total  155 non-null    int64         \n",
      "dtypes: datetime64[ns](1), int64(1)\n",
      "memory usage: 2.6 KB\n",
      "None\n"
     ]
    }
   ],
   "source": [
    "# Combine transaction values for each date\n",
    "ins_df = ins_df.groupby('Date')['Trans Total'].sum().reset_index()\n",
    "\n",
    "# Print to check\n",
    "print(ins_df.info())"
   ]
  },
  {
   "cell_type": "code",
   "execution_count": 23,
   "id": "a9031ad5",
   "metadata": {},
   "outputs": [
    {
     "name": "stdout",
     "output_type": "stream",
     "text": [
      "<class 'pandas.core.frame.DataFrame'>\n",
      "RangeIndex: 1296 entries, 0 to 1295\n",
      "Data columns (total 31 columns):\n",
      " #   Column         Non-Null Count  Dtype         \n",
      "---  ------         --------------  -----         \n",
      " 0   Date           1296 non-null   datetime64[ns]\n",
      " 1   000660.KS      1296 non-null   float64       \n",
      " 2   005930.KS      1296 non-null   float64       \n",
      " 3   AMD            1296 non-null   float64       \n",
      " 4   AMZN           1296 non-null   float64       \n",
      " 5   ASML           1296 non-null   float64       \n",
      " 6   GOOG           1296 non-null   float64       \n",
      " 7   INTC           1296 non-null   float64       \n",
      " 8   MSFT           1296 non-null   float64       \n",
      " 9   MU             1296 non-null   float64       \n",
      " 10  NVDA           1296 non-null   float64       \n",
      " 11  TSM            1296 non-null   float64       \n",
      " 12  ^GSPC          1296 non-null   float64       \n",
      " 13  ^IXIC          1296 non-null   float64       \n",
      " 14  ^SOX           1296 non-null   float64       \n",
      " 15  000660.KS_chg  1295 non-null   float64       \n",
      " 16  005930.KS_chg  1295 non-null   float64       \n",
      " 17  AMD_chg        1295 non-null   float64       \n",
      " 18  AMZN_chg       1295 non-null   float64       \n",
      " 19  ASML_chg       1295 non-null   float64       \n",
      " 20  GOOG_chg       1295 non-null   float64       \n",
      " 21  INTC_chg       1295 non-null   float64       \n",
      " 22  MSFT_chg       1295 non-null   float64       \n",
      " 23  MU_chg         1295 non-null   float64       \n",
      " 24  NVDA_chg       1295 non-null   float64       \n",
      " 25  TSM_chg        1295 non-null   float64       \n",
      " 26  ^GSPC_chg      1295 non-null   float64       \n",
      " 27  ^IXIC_chg      1295 non-null   float64       \n",
      " 28  ^SOX_chg       1295 non-null   float64       \n",
      " 29  Action         29 non-null     float64       \n",
      " 30  Trans Total    150 non-null    float64       \n",
      "dtypes: datetime64[ns](1), float64(30)\n",
      "memory usage: 314.0 KB\n",
      "None\n"
     ]
    }
   ],
   "source": [
    "# Merge Trans Total column into new_df\n",
    "new_df = pd.merge(new_df, ins_df, on='Date', how='left')\n",
    "\n",
    "# Print to check\n",
    "print(new_df.info())"
   ]
  },
  {
   "cell_type": "markdown",
   "id": "8666dae5",
   "metadata": {},
   "source": [
    "## ALPHA VANTAGE"
   ]
  },
  {
   "cell_type": "markdown",
   "id": "e6596a05",
   "metadata": {},
   "source": [
    "### EARNINGS SURPRISE"
   ]
  },
  {
   "cell_type": "code",
   "execution_count": 24,
   "id": "06cce9c2",
   "metadata": {},
   "outputs": [],
   "source": [
    "# Set url to retrieve data\n",
    "url = 'https://www.alphavantage.co/query?function=EARNINGS&symbol=NVDA&apikey=JI8F8CG68TLZIDYU'\n",
    "\n",
    "# Retrieve data\n",
    "r = requests.get(url)\n",
    "av_data = r.json()"
   ]
  },
  {
   "cell_type": "code",
   "execution_count": 25,
   "id": "7fd69a79",
   "metadata": {},
   "outputs": [
    {
     "name": "stdout",
     "output_type": "stream",
     "text": [
      "dict_keys(['symbol', 'annualEarnings', 'quarterlyEarnings'])\n"
     ]
    }
   ],
   "source": [
    "# Check keys\n",
    "print(av_data.keys())"
   ]
  },
  {
   "cell_type": "code",
   "execution_count": 26,
   "id": "385c74be",
   "metadata": {},
   "outputs": [
    {
     "name": "stdout",
     "output_type": "stream",
     "text": [
      "   fiscalDateEnding reportedDate reportedEPS estimatedEPS surprise  \\\n",
      "0        2024-01-31   2024-02-21        5.16         4.29     0.87   \n",
      "1        2023-10-31   2023-11-21        4.02         3.37     0.65   \n",
      "2        2023-07-31   2023-08-23         2.7         2.09     0.61   \n",
      "3        2023-04-30   2023-05-24        1.09         0.92     0.17   \n",
      "4        2023-01-31   2023-02-22        0.88         0.81     0.07   \n",
      "..              ...          ...         ...          ...      ...   \n",
      "95       2000-04-30   2000-05-16        0.01         0.01        0   \n",
      "96       2000-01-31   2000-02-15        0.01         0.01        0   \n",
      "97       1999-10-31   1999-11-18        0.01         0.02    -0.01   \n",
      "98       1999-07-31   1999-08-18        0.02         0.02        0   \n",
      "99       1999-04-30   1999-05-18        0.02         0.01     0.01   \n",
      "\n",
      "   surprisePercentage   reportTime  \n",
      "0             20.2797  post-market  \n",
      "1             19.2878  post-market  \n",
      "2             29.1866  post-market  \n",
      "3             18.4783  post-market  \n",
      "4               8.642  post-market  \n",
      "..                ...          ...  \n",
      "95                  0   pre-market  \n",
      "96                  0   pre-market  \n",
      "97                -50   pre-market  \n",
      "98                  0   pre-market  \n",
      "99                100   pre-market  \n",
      "\n",
      "[100 rows x 7 columns]\n",
      "<class 'pandas.core.frame.DataFrame'>\n",
      "RangeIndex: 100 entries, 0 to 99\n",
      "Data columns (total 7 columns):\n",
      " #   Column              Non-Null Count  Dtype \n",
      "---  ------              --------------  ----- \n",
      " 0   fiscalDateEnding    100 non-null    object\n",
      " 1   reportedDate        100 non-null    object\n",
      " 2   reportedEPS         100 non-null    object\n",
      " 3   estimatedEPS        100 non-null    object\n",
      " 4   surprise            100 non-null    object\n",
      " 5   surprisePercentage  100 non-null    object\n",
      " 6   reportTime          100 non-null    object\n",
      "dtypes: object(7)\n",
      "memory usage: 5.6+ KB\n",
      "None\n"
     ]
    }
   ],
   "source": [
    "# Convert json into a DataFrame\n",
    "quarterlye_df = pd.DataFrame(av_data['quarterlyEarnings'])\n",
    "\n",
    "# Print to check\n",
    "print(quarterlye_df)\n",
    "print(quarterlye_df.info())"
   ]
  },
  {
   "cell_type": "code",
   "execution_count": 27,
   "id": "edb36098",
   "metadata": {
    "scrolled": true
   },
   "outputs": [
    {
     "name": "stdout",
     "output_type": "stream",
     "text": [
      "<class 'pandas.core.frame.DataFrame'>\n",
      "RangeIndex: 100 entries, 0 to 99\n",
      "Data columns (total 3 columns):\n",
      " #   Column              Non-Null Count  Dtype         \n",
      "---  ------              --------------  -----         \n",
      " 0   Date                100 non-null    datetime64[ns]\n",
      " 1   surprise            100 non-null    object        \n",
      " 2   surprisePercentage  100 non-null    object        \n",
      "dtypes: datetime64[ns](1), object(2)\n",
      "memory usage: 2.5+ KB\n",
      "None\n"
     ]
    }
   ],
   "source": [
    "# Create new DataFrame from quarterlye_df\n",
    "surprise_df = quarterlye_df[['reportedDate','surprise','surprisePercentage']].copy()\n",
    "\n",
    "# Rename column\n",
    "surprise_df.rename(columns={'reportedDate': 'Date'}, inplace=True)\n",
    "\n",
    "# Convert Date to datetime format\n",
    "surprise_df['Date'] = pd.to_datetime(surprise_df['Date'])\n",
    "\n",
    "# Print to check\n",
    "print(surprise_df.info())"
   ]
  },
  {
   "cell_type": "code",
   "execution_count": 28,
   "id": "9276a03f",
   "metadata": {},
   "outputs": [
    {
     "name": "stdout",
     "output_type": "stream",
     "text": [
      "<class 'pandas.core.frame.DataFrame'>\n",
      "RangeIndex: 1296 entries, 0 to 1295\n",
      "Data columns (total 33 columns):\n",
      " #   Column              Non-Null Count  Dtype         \n",
      "---  ------              --------------  -----         \n",
      " 0   Date                1296 non-null   datetime64[ns]\n",
      " 1   000660.KS           1296 non-null   float64       \n",
      " 2   005930.KS           1296 non-null   float64       \n",
      " 3   AMD                 1296 non-null   float64       \n",
      " 4   AMZN                1296 non-null   float64       \n",
      " 5   ASML                1296 non-null   float64       \n",
      " 6   GOOG                1296 non-null   float64       \n",
      " 7   INTC                1296 non-null   float64       \n",
      " 8   MSFT                1296 non-null   float64       \n",
      " 9   MU                  1296 non-null   float64       \n",
      " 10  NVDA                1296 non-null   float64       \n",
      " 11  TSM                 1296 non-null   float64       \n",
      " 12  ^GSPC               1296 non-null   float64       \n",
      " 13  ^IXIC               1296 non-null   float64       \n",
      " 14  ^SOX                1296 non-null   float64       \n",
      " 15  000660.KS_chg       1295 non-null   float64       \n",
      " 16  005930.KS_chg       1295 non-null   float64       \n",
      " 17  AMD_chg             1295 non-null   float64       \n",
      " 18  AMZN_chg            1295 non-null   float64       \n",
      " 19  ASML_chg            1295 non-null   float64       \n",
      " 20  GOOG_chg            1295 non-null   float64       \n",
      " 21  INTC_chg            1295 non-null   float64       \n",
      " 22  MSFT_chg            1295 non-null   float64       \n",
      " 23  MU_chg              1295 non-null   float64       \n",
      " 24  NVDA_chg            1295 non-null   float64       \n",
      " 25  TSM_chg             1295 non-null   float64       \n",
      " 26  ^GSPC_chg           1295 non-null   float64       \n",
      " 27  ^IXIC_chg           1295 non-null   float64       \n",
      " 28  ^SOX_chg            1295 non-null   float64       \n",
      " 29  Action              29 non-null     float64       \n",
      " 30  Trans Total         150 non-null    float64       \n",
      " 31  surprise            20 non-null     object        \n",
      " 32  surprisePercentage  20 non-null     object        \n",
      "dtypes: datetime64[ns](1), float64(30), object(2)\n",
      "memory usage: 334.3+ KB\n",
      "None\n",
      "           Date      000660.KS     005930.KS         AMD        AMZN  \\\n",
      "1100 2023-08-04  119339.078125  67624.507812  115.820000  139.570007   \n",
      "1101 2023-08-07  121127.671875  67822.531250  116.809998  142.220001   \n",
      "1102 2023-08-08  117848.578125  66931.429688  113.230003  139.940002   \n",
      "1103 2023-08-09  117749.210938  68218.578125  110.470001  137.850006   \n",
      "1104 2023-08-10  117749.210938  67327.476562  110.230003  138.559998   \n",
      "1105 2023-08-11  114569.492188  66832.421875  107.570000  138.410004   \n",
      "1106 2023-08-14  114172.023438  66634.398438  111.980003  140.570007   \n",
      "1107 2023-08-15  114172.023438  66634.398438  111.349998  137.669998   \n",
      "1108 2023-08-16  115066.320312  66337.367188  107.190002  135.070007   \n",
      "1109 2023-08-17  114072.656250  66040.335938  104.440002  133.979996   \n",
      "1110 2023-08-18  116457.453125  65644.289062  105.449997  133.220001   \n",
      "1111 2023-08-21  115662.515625  65941.320312  108.220001  134.679993   \n",
      "1112 2023-08-22  115761.890625  65941.320312  105.660004  134.250000   \n",
      "1113 2023-08-23  115265.054688  66436.382812  109.430000  135.520004   \n",
      "1114 2023-08-24  120134.015625  67525.500000  101.800003  131.839996   \n",
      "1115 2023-08-25  115761.890625  66436.382812  102.250000  133.259995   \n",
      "1116 2023-08-28  115165.687500  66139.351562  102.610001  133.139999   \n",
      "1117 2023-08-29  117848.578125  66139.351562  105.919998  134.910004   \n",
      "1118 2023-08-30  118643.507812  66436.382812  106.589996  135.070007   \n",
      "1119 2023-08-31  121028.304688  66238.351562  105.720001  138.009995   \n",
      "1120 2023-09-01  119239.710938  70297.804688  109.449997  138.119995   \n",
      "1121 2023-09-04  118444.773438  70495.828125  109.449997  138.119995   \n",
      "1122 2023-09-05  118643.507812  70000.773438  110.779999  137.270004   \n",
      "1123 2023-09-06  117451.117188  69307.695312  109.279999  135.360001   \n",
      "1124 2023-09-07  117749.210938  69703.742188  106.589996  137.850006   \n",
      "1125 2023-09-08  112979.625000  69604.726562  106.089996  138.229996   \n",
      "1126 2023-09-11  115165.687500  70099.789062  105.320000  143.100006   \n",
      "1127 2023-09-12  115960.617188  69802.757812  105.309998  141.229996   \n",
      "1128 2023-09-13  117749.210938  70198.789062  107.709999  144.850006   \n",
      "1129 2023-09-14  121425.773438  70990.882812  106.629997  144.720001   \n",
      "1130 2023-09-15  121624.500000  71287.921875  101.489998  140.389999   \n",
      "1131 2023-09-18  118246.046875  69505.710938  102.370003  139.979996   \n",
      "1132 2023-09-19  118444.773438  69109.671875  101.610001  137.630005   \n",
      "1133 2023-09-20  117252.375000  68911.648438  100.339996  135.289993   \n",
      "1134 2023-09-21  115761.890625  68218.578125   96.110001  129.330002   \n",
      "1135 2023-09-22  116556.812500  68119.562500   96.199997  129.119995   \n",
      "1136 2023-09-25  116258.718750  68713.632812   97.379997  131.270004   \n",
      "1137 2023-09-26  114565.148438  68276.703125   95.959999  125.980003   \n",
      "1138 2023-09-27  114266.281250  68077.640625   98.070000  125.980003   \n",
      "1139 2023-09-28  114266.281250  68077.640625  102.760002  125.980003   \n",
      "1140 2023-09-29  114266.281250  68077.640625  102.820000  127.120003   \n",
      "1141 2023-10-02  114266.281250  68077.640625  103.269997  129.460007   \n",
      "1142 2023-10-03  114266.281250  68077.640625  100.080002  124.720001   \n",
      "1143 2023-10-04  114963.632812  67181.882812  104.070000  127.000000   \n",
      "1144 2023-10-05  119745.484375  66385.656250  102.910004  125.959999   \n",
      "1145 2023-10-06  119944.734375  65688.953125  107.239998  127.959999   \n",
      "1146 2023-10-09  119944.734375  65688.953125  106.970001  128.259995   \n",
      "1147 2023-10-10  119048.132812  66087.070312  109.010002  129.479996   \n",
      "1148 2023-10-11  118749.273438  67878.585938  108.309998  131.830002   \n",
      "1149 2023-10-12  123730.359375  68575.289062  108.790001  132.330002   \n",
      "\n",
      "            ASML        GOOG       INTC        MSFT         MU  ...    MU_chg  \\\n",
      "1100  673.724915  128.539993  34.781193  325.822418  69.633026  ...  1.055235   \n",
      "1101  689.007019  131.940002  34.870277  328.138489  69.105118  ... -0.758129   \n",
      "1102  675.046448  131.839996  34.662422  324.102753  67.381973  ... -2.493512   \n",
      "1103  668.210205  130.149994  33.929977  320.305603  66.435738  ... -1.404286   \n",
      "1104  673.496399  130.210007  34.325893  321.001373  65.180733  ... -1.889051   \n",
      "1105  657.568420  130.169998  34.533749  319.092865  64.114967  ... -1.635093   \n",
      "1106  662.308105  131.830002  35.315681  322.104797  68.009483  ...  6.074270   \n",
      "1107  647.552612  130.270004  34.414970  319.937744  65.071167  ... -4.320451   \n",
      "1108  642.326050  129.110001  33.187634  319.160797  63.965565  ... -1.699066   \n",
      "1109  640.239380  130.460007  32.247334  315.654449  63.308182  ... -1.027714   \n",
      "1110  651.159424  128.110001  32.415600  315.255981  63.338058  ...  0.047192   \n",
      "1111  658.303711  128.929993  32.801617  320.635101  63.706593  ...  0.581853   \n",
      "1112  663.271912  129.690002  32.554173  321.212830  63.158775  ... -0.859907   \n",
      "1113  672.810791  133.210007  33.633041  325.735291  64.931725  ...  2.807130   \n",
      "1114  643.697266  130.419998  32.257233  318.732483  63.437660  ... -2.300977   \n",
      "1115  646.866943  130.690002  32.910496  321.730835  63.467548  ...  0.047114   \n",
      "1116  654.796143  131.789993  33.276714  322.448059  65.051247  ...  2.495288   \n",
      "1117  663.261902  135.490005  33.959671  327.139832  66.415817  ...  2.097686   \n",
      "1118  665.298950  136.929993  34.177422  327.518372  67.820229  ...  2.114574   \n",
      "1119  656.326416  137.350006  34.781193  326.492371  69.662903  ...  2.716998   \n",
      "1120  658.303711  136.800003  36.236187  327.388855  70.111122  ...  0.643412   \n",
      "1121  658.303711  136.800003  36.236187  327.388855  70.111122  ...  0.000000   \n",
      "1122  659.337097  136.710007  36.335167  332.259918  70.011513  ... -0.142074   \n",
      "1123  661.801270  135.369995  36.602406  331.592560  70.131042  ...  0.170729   \n",
      "1124  633.731079  136.199997  37.790157  328.634033  69.593185  ... -0.766931   \n",
      "1125  623.864319  137.199997  37.621891  332.977142  69.901955  ...  0.443677   \n",
      "1126  623.715271  137.740005  38.195969  336.632965  69.752548  ... -0.213737   \n",
      "1127  614.861938  136.070007  38.463215  330.486816  70.031441  ...  0.399831   \n",
      "1128  613.123047  137.500000  38.314743  334.760254  70.569305  ...  0.768033   \n",
      "1129  617.942261  138.990005  38.275150  337.390015  71.505569  ...  1.326730   \n",
      "1130  592.862793  138.300003  37.493221  328.942810  69.603134  ... -2.660541   \n",
      "1131  593.926025  138.960007  37.602097  327.787292  70.220688  ...  0.887250   \n",
      "1132  589.991272  138.830002  35.968945  327.378876  70.429848  ...  0.297861   \n",
      "1133  586.126038  134.589996  34.335793  319.529388  69.403931  ... -1.456651   \n",
      "1134  578.415405  131.360001  34.296200  318.294189  67.630989  ... -2.554526   \n",
      "1135  583.363647  131.250000  33.830997  315.783936  68.607101  ...  1.443292   \n",
      "1136  582.399841  132.169998  33.939877  316.311890  68.308289  ... -0.435542   \n",
      "1137  569.065308  129.449997  33.484573  310.932770  67.670830  ... -0.933209   \n",
      "1138  570.873718  131.460007  34.256611  311.580231  67.939758  ...  0.397407   \n",
      "1139  576.954773  133.130005  34.820786  312.426971  64.941681  ... -4.412847   \n",
      "1140  584.913696  131.850006  35.187008  314.528809  67.760460  ...  4.340477   \n",
      "1141  578.474976  135.169998  35.097927  320.555389  67.690750  ... -0.102877   \n",
      "1142  566.968628  133.300003  35.325577  312.177917  67.561264  ... -0.191291   \n",
      "1143  587.099792  136.270004  35.563133  317.726379  67.840157  ...  0.412799   \n",
      "1144  577.988098  135.990005  35.523537  318.124817  68.776436  ...  1.380125   \n",
      "1145  593.558411  138.729996  35.820473  325.994293  69.799072  ...  1.486899   \n",
      "1146  587.606445  139.500000  35.691803  328.544373  69.320183  ... -0.686097   \n",
      "1147  598.317932  139.199997  36.058022  327.119934  68.911125  ... -0.590099   \n",
      "1148  602.332153  141.699997  36.503433  331.134338  70.048500  ...  1.650495   \n",
      "1149  612.834961  140.289993  36.463837  329.879211  69.589554  ... -0.655184   \n",
      "\n",
      "      NVDA_chg   TSM_chg  ^GSPC_chg  ^IXIC_chg  ^SOX_chg  Action  Trans Total  \\\n",
      "1100  0.370652  1.242373  -0.530007  -0.361608 -0.239480     NaN          NaN   \n",
      "1101  1.649516  0.197578   0.902409   0.612256  1.086991     NaN          NaN   \n",
      "1102 -1.657966 -1.930460  -0.421828  -0.786601 -1.604264     NaN          NaN   \n",
      "1103 -4.724172 -0.539740  -0.703873  -1.168950 -1.873663     NaN          NaN   \n",
      "1104 -0.390085  0.872533   0.025071   0.116387 -0.372803     NaN          NaN   \n",
      "1105 -3.616601 -2.964143  -0.106969  -0.677979 -2.292730     NaN          NaN   \n",
      "1106  7.093391  1.174046   0.575048   1.051536  2.870919     NaN          NaN   \n",
      "1107  0.427393 -1.493494  -1.155091  -1.140677 -1.700756     NaN          NaN   \n",
      "1108 -1.033231  0.109076  -0.755540  -1.147527 -2.078805     NaN          NaN   \n",
      "1109 -0.326539 -0.152545  -0.771291  -1.170349 -0.969230     NaN          NaN   \n",
      "1110 -0.103818 -0.589265  -0.014871  -0.196362  0.475572     NaN          NaN   \n",
      "1111  8.471326  1.602628   0.687919   1.556038  2.830129     NaN          NaN   \n",
      "1112 -2.765779 -0.345715  -0.277747   0.061346 -0.928179     NaN          NaN   \n",
      "1113  3.170720  2.146572   1.104488   1.593086  2.106763     NaN          NaN   \n",
      "1114  0.099750 -1.793673  -1.345797  -1.873478 -3.351183     3.0          NaN   \n",
      "1115 -2.427750  0.616021   0.671797   0.940886  0.412198     NaN          NaN   \n",
      "1116  1.775396  0.966695   0.626462   0.842340  1.207793     NaN    2294476.0   \n",
      "1117  4.161414  1.148933   1.450831   1.741172  2.591954     NaN   25091708.0   \n",
      "1118  0.983934 -0.315519   0.383318   0.541818  0.395360     NaN          NaN   \n",
      "1119  0.184710 -1.276640  -0.159694   0.111704  0.741235     NaN          NaN   \n",
      "1120 -1.714106 -0.406111   0.179913  -0.022516  0.324445     NaN          NaN   \n",
      "1121  0.000000  0.000000   0.000000   0.000000  0.000000     NaN          NaN   \n",
      "1122  0.080399  1.513040  -0.419418  -0.077391  0.025794     NaN          NaN   \n",
      "1123 -3.054967 -2.473578  -0.697160  -1.058990 -0.796193     NaN   42828054.0   \n",
      "1124 -1.742417 -2.395398  -0.321127  -0.891259 -1.979769     NaN          NaN   \n",
      "1125 -1.446766 -0.455311   0.142662   0.092373 -0.450017     NaN          NaN   \n",
      "1126 -0.864569 -0.044620   0.672345   1.136206  0.090858     NaN   26935697.0   \n",
      "1127 -0.681749  0.982154  -0.569589  -1.036646 -0.788402     NaN          NaN   \n",
      "1128  1.370633  0.817848   0.124163   0.290262  0.547003     NaN   26896438.0   \n",
      "1129  0.211052  0.794497   0.842992   0.814126  0.667611     NaN   13528346.0   \n",
      "1130 -3.687941 -2.427020  -1.215961  -1.563399 -3.008738     NaN          NaN   \n",
      "1131  0.150342 -0.470593   0.072129   0.013934  0.462551     NaN          NaN   \n",
      "1132 -1.014416 -0.742996  -0.215101  -0.233765 -0.957773     NaN          NaN   \n",
      "1133 -2.943471 -0.998063  -0.939479  -1.528423 -1.740665     NaN   19176086.0   \n",
      "1134 -2.893061 -2.211020  -1.640093  -1.820084 -1.764146     NaN          NaN   \n",
      "1135  1.445734  0.328011  -0.229560  -0.092037  0.791888     NaN          NaN   \n",
      "1136  1.470807  0.700610   0.402307   0.450436  0.718212     NaN          NaN   \n",
      "1137 -0.736585 -2.261126  -1.473453  -1.565104 -1.765468     NaN          NaN   \n",
      "1138  1.329006  1.364337   0.022931   0.223822  0.954757     NaN          NaN   \n",
      "1139  1.462286  1.135302   0.589317   0.828167  1.772473     NaN          NaN   \n",
      "1140  0.951507  0.567060  -0.270958   0.136654  0.388778     NaN          NaN   \n",
      "1141  2.949502  0.863059   0.007937   0.669091  0.423961     NaN          NaN   \n",
      "1142 -2.824800 -2.555617  -1.374407  -1.865826 -2.095482     NaN          NaN   \n",
      "1143  1.204126  1.475226   0.810975   1.351816  1.431621     NaN          NaN   \n",
      "1144  1.469090  0.415381  -0.130403  -0.122240 -0.523806     NaN          NaN   \n",
      "1145  2.403331  2.596807   1.181489   1.599943  2.002653     NaN          NaN   \n",
      "1146 -1.068573 -0.335985   0.630385   0.393858 -0.226169     NaN          NaN   \n",
      "1147  1.159633  1.820430   0.520799   0.582900  1.289745     NaN          NaN   \n",
      "1148  2.200970  1.534046   0.429301   0.714009  0.733471     NaN          NaN   \n",
      "1149  0.296968  0.456518  -0.624643  -0.625637  0.304990     NaN          NaN   \n",
      "\n",
      "      surprise  surprisePercentage  \n",
      "1100       NaN                 NaN  \n",
      "1101       NaN                 NaN  \n",
      "1102       NaN                 NaN  \n",
      "1103       NaN                 NaN  \n",
      "1104       NaN                 NaN  \n",
      "1105       NaN                 NaN  \n",
      "1106       NaN                 NaN  \n",
      "1107       NaN                 NaN  \n",
      "1108       NaN                 NaN  \n",
      "1109       NaN                 NaN  \n",
      "1110       NaN                 NaN  \n",
      "1111       NaN                 NaN  \n",
      "1112       NaN                 NaN  \n",
      "1113      0.61             29.1866  \n",
      "1114       NaN                 NaN  \n",
      "1115       NaN                 NaN  \n",
      "1116       NaN                 NaN  \n",
      "1117       NaN                 NaN  \n",
      "1118       NaN                 NaN  \n",
      "1119       NaN                 NaN  \n",
      "1120       NaN                 NaN  \n",
      "1121       NaN                 NaN  \n",
      "1122       NaN                 NaN  \n",
      "1123       NaN                 NaN  \n",
      "1124       NaN                 NaN  \n",
      "1125       NaN                 NaN  \n",
      "1126       NaN                 NaN  \n",
      "1127       NaN                 NaN  \n",
      "1128       NaN                 NaN  \n",
      "1129       NaN                 NaN  \n",
      "1130       NaN                 NaN  \n",
      "1131       NaN                 NaN  \n",
      "1132       NaN                 NaN  \n",
      "1133       NaN                 NaN  \n",
      "1134       NaN                 NaN  \n",
      "1135       NaN                 NaN  \n",
      "1136       NaN                 NaN  \n",
      "1137       NaN                 NaN  \n",
      "1138       NaN                 NaN  \n",
      "1139       NaN                 NaN  \n",
      "1140       NaN                 NaN  \n",
      "1141       NaN                 NaN  \n",
      "1142       NaN                 NaN  \n",
      "1143       NaN                 NaN  \n",
      "1144       NaN                 NaN  \n",
      "1145       NaN                 NaN  \n",
      "1146       NaN                 NaN  \n",
      "1147       NaN                 NaN  \n",
      "1148       NaN                 NaN  \n",
      "1149       NaN                 NaN  \n",
      "\n",
      "[50 rows x 33 columns]\n"
     ]
    }
   ],
   "source": [
    "# Merge surprise and surprisePercentage into new_df\n",
    "new_df = pd.merge(new_df, surprise_df, on='Date', how='left')\n",
    "\n",
    "# Print to check\n",
    "print(new_df.info())\n",
    "print(new_df.iloc[1100:1150])"
   ]
  },
  {
   "cell_type": "markdown",
   "id": "c2b5367d",
   "metadata": {},
   "source": [
    "## CHART EXCHANGE"
   ]
  },
  {
   "cell_type": "markdown",
   "id": "59441402",
   "metadata": {},
   "source": [
    "### SHORT INTEREST"
   ]
  },
  {
   "cell_type": "code",
   "execution_count": 29,
   "id": "adb94c4a",
   "metadata": {},
   "outputs": [
    {
     "name": "stdout",
     "output_type": "stream",
     "text": [
      "<class 'pandas.core.frame.DataFrame'>\n",
      "RangeIndex: 376 entries, 0 to 375\n",
      "Data columns (total 3 columns):\n",
      " #   Column       Non-Null Count  Dtype  \n",
      "---  ------       --------------  -----  \n",
      " 0   date         376 non-null    int64  \n",
      " 1   total_short  376 non-null    int64  \n",
      " 2   perc_short   376 non-null    float64\n",
      "dtypes: float64(1), int64(2)\n",
      "memory usage: 8.9 KB\n",
      "None\n",
      "         date  total_short  perc_short\n",
      "371  20221111     29517874    0.618594\n",
      "372  20221110     26907680    0.574049\n",
      "373  20221109     18794182    0.594490\n",
      "374  20221108     27869720    0.608833\n",
      "375  20221107     19608450    0.635426\n"
     ]
    }
   ],
   "source": [
    "# Create the file path\n",
    "file_path_short = os.path.join(folder_path, 'nvda_short_only.csv')\n",
    "\n",
    "# Import data from csv\n",
    "short_df = pd.read_csv(file_path_short)\n",
    "\n",
    "# Print to check\n",
    "print(short_df.info())\n",
    "print(short_df.tail())"
   ]
  },
  {
   "cell_type": "code",
   "execution_count": 30,
   "id": "57b02f23",
   "metadata": {},
   "outputs": [
    {
     "name": "stdout",
     "output_type": "stream",
     "text": [
      "<class 'pandas.core.frame.DataFrame'>\n",
      "RangeIndex: 376 entries, 0 to 375\n",
      "Data columns (total 3 columns):\n",
      " #   Column       Non-Null Count  Dtype  \n",
      "---  ------       --------------  -----  \n",
      " 0   date         376 non-null    object \n",
      " 1   total_short  376 non-null    int64  \n",
      " 2   perc_short   376 non-null    float64\n",
      "dtypes: float64(1), int64(1), object(1)\n",
      "memory usage: 8.9+ KB\n",
      "None\n"
     ]
    }
   ],
   "source": [
    "# Change data type of date column to string\n",
    "short_df['date'] = short_df['date'].astype(str)\n",
    "\n",
    "# Print to check\n",
    "print(short_df.info())"
   ]
  },
  {
   "cell_type": "code",
   "execution_count": 31,
   "id": "cc0bf53c",
   "metadata": {},
   "outputs": [
    {
     "name": "stdout",
     "output_type": "stream",
     "text": [
      "<class 'pandas.core.frame.DataFrame'>\n",
      "RangeIndex: 376 entries, 0 to 375\n",
      "Data columns (total 3 columns):\n",
      " #   Column       Non-Null Count  Dtype         \n",
      "---  ------       --------------  -----         \n",
      " 0   Date         376 non-null    datetime64[ns]\n",
      " 1   total_short  376 non-null    int64         \n",
      " 2   perc_short   376 non-null    float64       \n",
      "dtypes: datetime64[ns](1), float64(1), int64(1)\n",
      "memory usage: 8.9 KB\n",
      "None\n"
     ]
    }
   ],
   "source": [
    "# Change data type of date column to date\n",
    "short_df['date'] = pd.to_datetime(short_df['date'], format='%Y%m%d')\n",
    "short_df['date'] = pd.to_datetime(short_df['date'], format='%Y-%m-%d')\n",
    "\n",
    "# Rename date column\n",
    "short_df.rename(columns={'date': 'Date'}, inplace=True)\n",
    "\n",
    "# Print to check\n",
    "print(short_df.info())"
   ]
  },
  {
   "cell_type": "code",
   "execution_count": 32,
   "id": "723f88ca",
   "metadata": {},
   "outputs": [
    {
     "name": "stdout",
     "output_type": "stream",
     "text": [
      "<class 'pandas.core.frame.DataFrame'>\n",
      "RangeIndex: 1296 entries, 0 to 1295\n",
      "Data columns (total 35 columns):\n",
      " #   Column              Non-Null Count  Dtype         \n",
      "---  ------              --------------  -----         \n",
      " 0   Date                1296 non-null   datetime64[ns]\n",
      " 1   000660.KS           1296 non-null   float64       \n",
      " 2   005930.KS           1296 non-null   float64       \n",
      " 3   AMD                 1296 non-null   float64       \n",
      " 4   AMZN                1296 non-null   float64       \n",
      " 5   ASML                1296 non-null   float64       \n",
      " 6   GOOG                1296 non-null   float64       \n",
      " 7   INTC                1296 non-null   float64       \n",
      " 8   MSFT                1296 non-null   float64       \n",
      " 9   MU                  1296 non-null   float64       \n",
      " 10  NVDA                1296 non-null   float64       \n",
      " 11  TSM                 1296 non-null   float64       \n",
      " 12  ^GSPC               1296 non-null   float64       \n",
      " 13  ^IXIC               1296 non-null   float64       \n",
      " 14  ^SOX                1296 non-null   float64       \n",
      " 15  000660.KS_chg       1295 non-null   float64       \n",
      " 16  005930.KS_chg       1295 non-null   float64       \n",
      " 17  AMD_chg             1295 non-null   float64       \n",
      " 18  AMZN_chg            1295 non-null   float64       \n",
      " 19  ASML_chg            1295 non-null   float64       \n",
      " 20  GOOG_chg            1295 non-null   float64       \n",
      " 21  INTC_chg            1295 non-null   float64       \n",
      " 22  MSFT_chg            1295 non-null   float64       \n",
      " 23  MU_chg              1295 non-null   float64       \n",
      " 24  NVDA_chg            1295 non-null   float64       \n",
      " 25  TSM_chg             1295 non-null   float64       \n",
      " 26  ^GSPC_chg           1295 non-null   float64       \n",
      " 27  ^IXIC_chg           1295 non-null   float64       \n",
      " 28  ^SOX_chg            1295 non-null   float64       \n",
      " 29  Action              29 non-null     float64       \n",
      " 30  Trans Total         150 non-null    float64       \n",
      " 31  surprise            20 non-null     object        \n",
      " 32  surprisePercentage  20 non-null     object        \n",
      " 33  total_short         376 non-null    float64       \n",
      " 34  perc_short          376 non-null    float64       \n",
      "dtypes: datetime64[ns](1), float64(32), object(2)\n",
      "memory usage: 354.5+ KB\n",
      "None\n",
      "        Date     000660.KS     005930.KS        AMD       AMZN        ASML  \\\n",
      "0 2019-05-10  70162.523438  37687.656250  27.959999  94.499001  189.950531   \n",
      "1 2019-05-13  69313.796875  37468.031250  26.240000  91.134003  182.017609   \n",
      "2 2019-05-14  70351.148438  37468.031250  27.320000  92.005997  189.281448   \n",
      "3 2019-05-15  70256.835938  37380.187500  27.580000  93.557503  191.756927   \n",
      "4 2019-05-16  67804.921875  36501.683594  28.010000  95.378502  193.200150   \n",
      "\n",
      "        GOOG       INTC        MSFT         MU  ...   TSM_chg  ^GSPC_chg  \\\n",
      "0  58.213501  40.513161  121.014084  38.244068  ...       NaN        NaN   \n",
      "1  56.601501  39.250404  117.415924  36.711952  ... -4.296071  -2.413056   \n",
      "2  56.021999  39.609940  118.729538  37.821766  ...  2.390822   0.801594   \n",
      "3  58.210499  40.004547  120.401520  37.723545  ...  0.000000   0.583898   \n",
      "4  58.949001  39.925625  123.181755  36.643200  ... -1.048366   0.889529   \n",
      "\n",
      "   ^IXIC_chg  ^SOX_chg  Action  Trans Total  surprise  surprisePercentage  \\\n",
      "0        NaN       NaN     NaN          NaN       NaN                 NaN   \n",
      "1  -3.409397 -4.727937     NaN          NaN       NaN                 NaN   \n",
      "2   1.143847  2.404628     NaN          NaN       NaN                 NaN   \n",
      "3   1.133361  0.808830     NaN          NaN       NaN                 NaN   \n",
      "4   0.970320 -1.676866     NaN          NaN      0.02                  10   \n",
      "\n",
      "   total_short  perc_short  \n",
      "0          NaN         NaN  \n",
      "1          NaN         NaN  \n",
      "2          NaN         NaN  \n",
      "3          NaN         NaN  \n",
      "4          NaN         NaN  \n",
      "\n",
      "[5 rows x 35 columns]\n"
     ]
    }
   ],
   "source": [
    "# Merge total_short and perc_short into new_df\n",
    "new_df = pd.merge(new_df, short_df, on='Date', how='left')\n",
    "\n",
    "# Print to check\n",
    "print(new_df.info())\n",
    "print(new_df.head())"
   ]
  },
  {
   "cell_type": "markdown",
   "id": "d5d7aab9",
   "metadata": {},
   "source": [
    "## MACROTRENDS"
   ]
  },
  {
   "cell_type": "markdown",
   "id": "89a68497",
   "metadata": {},
   "source": [
    "### P/E RATIO"
   ]
  },
  {
   "cell_type": "code",
   "execution_count": 33,
   "id": "8040f7e4",
   "metadata": {},
   "outputs": [
    {
     "name": "stdout",
     "output_type": "stream",
     "text": [
      "<class 'pandas.core.frame.DataFrame'>\n",
      "RangeIndex: 59 entries, 0 to 58\n",
      "Data columns (total 2 columns):\n",
      " #   Column    Non-Null Count  Dtype  \n",
      "---  ------    --------------  -----  \n",
      " 0   Date      59 non-null     object \n",
      " 1   PE Ratio  59 non-null     float64\n",
      "dtypes: float64(1), object(1)\n",
      "memory usage: 1.1+ KB\n",
      "None\n",
      "          Date  PE Ratio\n",
      "54  2010-10-31     30.66\n",
      "55  2010-07-31     21.10\n",
      "56  2010-04-30     31.36\n",
      "57  2010-01-31      0.00\n",
      "58  2009-10-31      0.00\n"
     ]
    }
   ],
   "source": [
    "# Create the file path\n",
    "file_path_pe = os.path.join(folder_path, 'nvda_peratio_only.csv')\n",
    "\n",
    "# Import data from csv\n",
    "pe_df = pd.read_csv(file_path_pe)\n",
    "\n",
    "# Print to check\n",
    "print(pe_df.info())\n",
    "print(pe_df.tail())"
   ]
  },
  {
   "cell_type": "code",
   "execution_count": 34,
   "id": "79a44bbd",
   "metadata": {},
   "outputs": [
    {
     "name": "stdout",
     "output_type": "stream",
     "text": [
      "<class 'pandas.core.frame.DataFrame'>\n",
      "RangeIndex: 59 entries, 0 to 58\n",
      "Data columns (total 2 columns):\n",
      " #   Column    Non-Null Count  Dtype         \n",
      "---  ------    --------------  -----         \n",
      " 0   Date      59 non-null     datetime64[ns]\n",
      " 1   PE Ratio  59 non-null     float64       \n",
      "dtypes: datetime64[ns](1), float64(1)\n",
      "memory usage: 1.1 KB\n",
      "None\n"
     ]
    }
   ],
   "source": [
    "# Convert Date to datetime format\n",
    "pe_df['Date'] = pd.to_datetime(pe_df['Date'])\n",
    "\n",
    "# Print to check\n",
    "print(pe_df.info())"
   ]
  },
  {
   "cell_type": "code",
   "execution_count": 35,
   "id": "fc5234e5",
   "metadata": {},
   "outputs": [
    {
     "name": "stdout",
     "output_type": "stream",
     "text": [
      "<class 'pandas.core.frame.DataFrame'>\n",
      "RangeIndex: 1296 entries, 0 to 1295\n",
      "Data columns (total 36 columns):\n",
      " #   Column              Non-Null Count  Dtype         \n",
      "---  ------              --------------  -----         \n",
      " 0   Date                1296 non-null   datetime64[ns]\n",
      " 1   000660.KS           1296 non-null   float64       \n",
      " 2   005930.KS           1296 non-null   float64       \n",
      " 3   AMD                 1296 non-null   float64       \n",
      " 4   AMZN                1296 non-null   float64       \n",
      " 5   ASML                1296 non-null   float64       \n",
      " 6   GOOG                1296 non-null   float64       \n",
      " 7   INTC                1296 non-null   float64       \n",
      " 8   MSFT                1296 non-null   float64       \n",
      " 9   MU                  1296 non-null   float64       \n",
      " 10  NVDA                1296 non-null   float64       \n",
      " 11  TSM                 1296 non-null   float64       \n",
      " 12  ^GSPC               1296 non-null   float64       \n",
      " 13  ^IXIC               1296 non-null   float64       \n",
      " 14  ^SOX                1296 non-null   float64       \n",
      " 15  000660.KS_chg       1295 non-null   float64       \n",
      " 16  005930.KS_chg       1295 non-null   float64       \n",
      " 17  AMD_chg             1295 non-null   float64       \n",
      " 18  AMZN_chg            1295 non-null   float64       \n",
      " 19  ASML_chg            1295 non-null   float64       \n",
      " 20  GOOG_chg            1295 non-null   float64       \n",
      " 21  INTC_chg            1295 non-null   float64       \n",
      " 22  MSFT_chg            1295 non-null   float64       \n",
      " 23  MU_chg              1295 non-null   float64       \n",
      " 24  NVDA_chg            1295 non-null   float64       \n",
      " 25  TSM_chg             1295 non-null   float64       \n",
      " 26  ^GSPC_chg           1295 non-null   float64       \n",
      " 27  ^IXIC_chg           1295 non-null   float64       \n",
      " 28  ^SOX_chg            1295 non-null   float64       \n",
      " 29  Action              29 non-null     float64       \n",
      " 30  Trans Total         150 non-null    float64       \n",
      " 31  surprise            20 non-null     object        \n",
      " 32  surprisePercentage  20 non-null     object        \n",
      " 33  total_short         376 non-null    float64       \n",
      " 34  perc_short          376 non-null    float64       \n",
      " 35  PE Ratio            13 non-null     float64       \n",
      "dtypes: datetime64[ns](1), float64(33), object(2)\n",
      "memory usage: 364.6+ KB\n",
      "None\n",
      "        Date     000660.KS     005930.KS        AMD       AMZN        ASML  \\\n",
      "0 2019-05-10  70162.523438  37687.656250  27.959999  94.499001  189.950531   \n",
      "1 2019-05-13  69313.796875  37468.031250  26.240000  91.134003  182.017609   \n",
      "2 2019-05-14  70351.148438  37468.031250  27.320000  92.005997  189.281448   \n",
      "3 2019-05-15  70256.835938  37380.187500  27.580000  93.557503  191.756927   \n",
      "4 2019-05-16  67804.921875  36501.683594  28.010000  95.378502  193.200150   \n",
      "\n",
      "        GOOG       INTC        MSFT         MU  ...  ^GSPC_chg  ^IXIC_chg  \\\n",
      "0  58.213501  40.513161  121.014084  38.244068  ...        NaN        NaN   \n",
      "1  56.601501  39.250404  117.415924  36.711952  ...  -2.413056  -3.409397   \n",
      "2  56.021999  39.609940  118.729538  37.821766  ...   0.801594   1.143847   \n",
      "3  58.210499  40.004547  120.401520  37.723545  ...   0.583898   1.133361   \n",
      "4  58.949001  39.925625  123.181755  36.643200  ...   0.889529   0.970320   \n",
      "\n",
      "   ^SOX_chg  Action  Trans Total  surprise  surprisePercentage  total_short  \\\n",
      "0       NaN     NaN          NaN       NaN                 NaN          NaN   \n",
      "1 -4.727937     NaN          NaN       NaN                 NaN          NaN   \n",
      "2  2.404628     NaN          NaN       NaN                 NaN          NaN   \n",
      "3  0.808830     NaN          NaN       NaN                 NaN          NaN   \n",
      "4 -1.676866     NaN          NaN      0.02                  10          NaN   \n",
      "\n",
      "   perc_short  PE Ratio  \n",
      "0         NaN       NaN  \n",
      "1         NaN       NaN  \n",
      "2         NaN       NaN  \n",
      "3         NaN       NaN  \n",
      "4         NaN       NaN  \n",
      "\n",
      "[5 rows x 36 columns]\n"
     ]
    }
   ],
   "source": [
    "# Merge PE ratio into new_df\n",
    "new_df = pd.merge(new_df, pe_df, on='Date', how='left')\n",
    "\n",
    "# Print to check\n",
    "print(new_df.info())\n",
    "print(new_df.head())"
   ]
  },
  {
   "cell_type": "markdown",
   "id": "24b7834c",
   "metadata": {},
   "source": [
    "### VOLUME (YAHOO FINANCE)"
   ]
  },
  {
   "cell_type": "code",
   "execution_count": 36,
   "id": "90cc922b",
   "metadata": {},
   "outputs": [
    {
     "name": "stdout",
     "output_type": "stream",
     "text": [
      "<class 'pandas.core.frame.DataFrame'>\n",
      "RangeIndex: 1296 entries, 0 to 1295\n",
      "Data columns (total 15 columns):\n",
      " #   Column     Non-Null Count  Dtype         \n",
      "---  ------     --------------  -----         \n",
      " 0   Date       1296 non-null   datetime64[ns]\n",
      " 1   000660.KS  1230 non-null   float64       \n",
      " 2   005930.KS  1230 non-null   float64       \n",
      " 3   AMD        1257 non-null   float64       \n",
      " 4   AMZN       1257 non-null   float64       \n",
      " 5   ASML       1257 non-null   float64       \n",
      " 6   GOOG       1257 non-null   float64       \n",
      " 7   INTC       1257 non-null   float64       \n",
      " 8   MSFT       1257 non-null   float64       \n",
      " 9   MU         1257 non-null   float64       \n",
      " 10  NVDA       1257 non-null   float64       \n",
      " 11  TSM        1257 non-null   float64       \n",
      " 12  ^GSPC      1257 non-null   float64       \n",
      " 13  ^IXIC      1257 non-null   float64       \n",
      " 14  ^SOX       1257 non-null   float64       \n",
      "dtypes: datetime64[ns](1), float64(14)\n",
      "memory usage: 152.0 KB\n",
      "None\n"
     ]
    }
   ],
   "source": [
    "# Create new DataFrame with only volume\n",
    "vol_df = df['Volume']\n",
    "\n",
    "# Reset index of vol_df\n",
    "vol_df.reset_index(inplace=True)\n",
    "\n",
    "# Print to check \n",
    "print(vol_df.info())"
   ]
  },
  {
   "cell_type": "code",
   "execution_count": 37,
   "id": "9a0ce2c9",
   "metadata": {},
   "outputs": [
    {
     "name": "stdout",
     "output_type": "stream",
     "text": [
      "<class 'pandas.core.frame.DataFrame'>\n",
      "RangeIndex: 1296 entries, 0 to 1295\n",
      "Data columns (total 2 columns):\n",
      " #   Column  Non-Null Count  Dtype         \n",
      "---  ------  --------------  -----         \n",
      " 0   Date    1296 non-null   datetime64[ns]\n",
      " 1   Volume  1257 non-null   float64       \n",
      "dtypes: datetime64[ns](1), float64(1)\n",
      "memory usage: 20.4 KB\n",
      "None\n"
     ]
    },
    {
     "name": "stderr",
     "output_type": "stream",
     "text": [
      "/var/folders/hc/nhpbzgz12fg7s2yt32gdtl4r0000gn/T/ipykernel_74478/2491697509.py:5: SettingWithCopyWarning: \n",
      "A value is trying to be set on a copy of a slice from a DataFrame\n",
      "\n",
      "See the caveats in the documentation: https://pandas.pydata.org/pandas-docs/stable/user_guide/indexing.html#returning-a-view-versus-a-copy\n",
      "  nvol_df.rename(columns={'NVDA':'Volume'}, inplace=True)\n"
     ]
    }
   ],
   "source": [
    "# Create new DataFrame with only NVDA volume\n",
    "nvol_df = vol_df[['Date','NVDA']]\n",
    "\n",
    "# Rename NVDA column\n",
    "nvol_df.rename(columns={'NVDA':'Volume'}, inplace=True)\n",
    "\n",
    "# Print to check\n",
    "print(nvol_df.info())"
   ]
  },
  {
   "cell_type": "code",
   "execution_count": 38,
   "id": "d25ada95",
   "metadata": {},
   "outputs": [
    {
     "name": "stdout",
     "output_type": "stream",
     "text": [
      "<class 'pandas.core.frame.DataFrame'>\n",
      "RangeIndex: 1296 entries, 0 to 1295\n",
      "Data columns (total 37 columns):\n",
      " #   Column              Non-Null Count  Dtype         \n",
      "---  ------              --------------  -----         \n",
      " 0   Date                1296 non-null   datetime64[ns]\n",
      " 1   000660.KS           1296 non-null   float64       \n",
      " 2   005930.KS           1296 non-null   float64       \n",
      " 3   AMD                 1296 non-null   float64       \n",
      " 4   AMZN                1296 non-null   float64       \n",
      " 5   ASML                1296 non-null   float64       \n",
      " 6   GOOG                1296 non-null   float64       \n",
      " 7   INTC                1296 non-null   float64       \n",
      " 8   MSFT                1296 non-null   float64       \n",
      " 9   MU                  1296 non-null   float64       \n",
      " 10  NVDA                1296 non-null   float64       \n",
      " 11  TSM                 1296 non-null   float64       \n",
      " 12  ^GSPC               1296 non-null   float64       \n",
      " 13  ^IXIC               1296 non-null   float64       \n",
      " 14  ^SOX                1296 non-null   float64       \n",
      " 15  000660.KS_chg       1295 non-null   float64       \n",
      " 16  005930.KS_chg       1295 non-null   float64       \n",
      " 17  AMD_chg             1295 non-null   float64       \n",
      " 18  AMZN_chg            1295 non-null   float64       \n",
      " 19  ASML_chg            1295 non-null   float64       \n",
      " 20  GOOG_chg            1295 non-null   float64       \n",
      " 21  INTC_chg            1295 non-null   float64       \n",
      " 22  MSFT_chg            1295 non-null   float64       \n",
      " 23  MU_chg              1295 non-null   float64       \n",
      " 24  NVDA_chg            1295 non-null   float64       \n",
      " 25  TSM_chg             1295 non-null   float64       \n",
      " 26  ^GSPC_chg           1295 non-null   float64       \n",
      " 27  ^IXIC_chg           1295 non-null   float64       \n",
      " 28  ^SOX_chg            1295 non-null   float64       \n",
      " 29  Action              29 non-null     float64       \n",
      " 30  Trans Total         150 non-null    float64       \n",
      " 31  surprise            20 non-null     object        \n",
      " 32  surprisePercentage  20 non-null     object        \n",
      " 33  total_short         376 non-null    float64       \n",
      " 34  perc_short          376 non-null    float64       \n",
      " 35  PE Ratio            13 non-null     float64       \n",
      " 36  Volume              1257 non-null   float64       \n",
      "dtypes: datetime64[ns](1), float64(34), object(2)\n",
      "memory usage: 374.8+ KB\n",
      "None\n"
     ]
    }
   ],
   "source": [
    "# Merge Volume column into new_df\n",
    "new_df = pd.merge(new_df, nvol_df, on='Date', how='left')\n",
    "\n",
    "# Print to check\n",
    "print(new_df.info())"
   ]
  },
  {
   "cell_type": "markdown",
   "id": "70e7d447",
   "metadata": {},
   "source": [
    "### FED FUNDS RATE (ALPHA VANTAGE)"
   ]
  },
  {
   "cell_type": "code",
   "execution_count": 39,
   "id": "1ead12e9",
   "metadata": {},
   "outputs": [],
   "source": [
    "# Set url to retrieve data\n",
    "url_ffr = 'https://www.alphavantage.co/query?function=FEDERAL_FUNDS_RATE&interval=daily&apikey=JI8F8CG68TLZIDYU'\n",
    "\n",
    "# Retrieve data\n",
    "r = requests.get(url_ffr)\n",
    "ffr_data = r.json()"
   ]
  },
  {
   "cell_type": "code",
   "execution_count": 40,
   "id": "1bceb64b",
   "metadata": {},
   "outputs": [
    {
     "name": "stdout",
     "output_type": "stream",
     "text": [
      "dict_keys(['name', 'interval', 'unit', 'data'])\n"
     ]
    }
   ],
   "source": [
    "# Check keys\n",
    "print(ffr_data.keys())"
   ]
  },
  {
   "cell_type": "code",
   "execution_count": 41,
   "id": "6ef19deb",
   "metadata": {},
   "outputs": [
    {
     "name": "stdout",
     "output_type": "stream",
     "text": [
      "             date  value\n",
      "0      2024-05-09   5.33\n",
      "1      2024-05-08   5.33\n",
      "2      2024-05-07   5.33\n",
      "3      2024-05-06   5.33\n",
      "4      2024-05-05   5.33\n",
      "...           ...    ...\n",
      "25511  1954-07-05   0.88\n",
      "25512  1954-07-04  1.250\n",
      "25513  1954-07-03  1.250\n",
      "25514  1954-07-02  1.250\n",
      "25515  1954-07-01   1.13\n",
      "\n",
      "[25516 rows x 2 columns]\n",
      "<class 'pandas.core.frame.DataFrame'>\n",
      "RangeIndex: 25516 entries, 0 to 25515\n",
      "Data columns (total 2 columns):\n",
      " #   Column  Non-Null Count  Dtype \n",
      "---  ------  --------------  ----- \n",
      " 0   date    25516 non-null  object\n",
      " 1   value   25516 non-null  object\n",
      "dtypes: object(2)\n",
      "memory usage: 398.8+ KB\n",
      "None\n"
     ]
    }
   ],
   "source": [
    "# Convert json into a DataFrame\n",
    "ffr_df = pd.DataFrame(ffr_data['data'])\n",
    "\n",
    "# Print to check\n",
    "print(ffr_df)\n",
    "print(ffr_df.info())"
   ]
  },
  {
   "cell_type": "code",
   "execution_count": 42,
   "id": "9ae36e2e",
   "metadata": {},
   "outputs": [
    {
     "name": "stdout",
     "output_type": "stream",
     "text": [
      "<class 'pandas.core.frame.DataFrame'>\n",
      "RangeIndex: 25516 entries, 0 to 25515\n",
      "Data columns (total 2 columns):\n",
      " #   Column         Non-Null Count  Dtype         \n",
      "---  ------         --------------  -----         \n",
      " 0   Date           25516 non-null  datetime64[ns]\n",
      " 1   Interest Rate  25516 non-null  object        \n",
      "dtypes: datetime64[ns](1), object(1)\n",
      "memory usage: 398.8+ KB\n",
      "None\n"
     ]
    }
   ],
   "source": [
    "# Convert Date to datetime format\n",
    "ffr_df['date'] = pd.to_datetime(ffr_df['date'])\n",
    "\n",
    "# Rename columns\n",
    "ffr_df.rename(columns={'date':'Date','value':'Interest Rate'},inplace=True)\n",
    "\n",
    "# Print to check\n",
    "print(ffr_df.info())"
   ]
  },
  {
   "cell_type": "code",
   "execution_count": 43,
   "id": "85327380",
   "metadata": {},
   "outputs": [
    {
     "name": "stdout",
     "output_type": "stream",
     "text": [
      "<class 'pandas.core.frame.DataFrame'>\n",
      "Index: 1827 entries, 0 to 1826\n",
      "Data columns (total 2 columns):\n",
      " #   Column         Non-Null Count  Dtype         \n",
      "---  ------         --------------  -----         \n",
      " 0   Date           1827 non-null   datetime64[ns]\n",
      " 1   Interest Rate  1827 non-null   object        \n",
      "dtypes: datetime64[ns](1), object(1)\n",
      "memory usage: 42.8+ KB\n",
      "None\n"
     ]
    }
   ],
   "source": [
    "# Create mask to identify rows with dates earlier than cutoff_date\n",
    "mask = ffr_df['Date'] < start_date\n",
    "\n",
    "# Use mask to filter out rows\n",
    "ffr_df = ffr_df[~mask]\n",
    "\n",
    "# Print to check\n",
    "print(ffr_df.info())"
   ]
  },
  {
   "cell_type": "code",
   "execution_count": 44,
   "id": "82d8c0b6",
   "metadata": {},
   "outputs": [
    {
     "name": "stdout",
     "output_type": "stream",
     "text": [
      "<class 'pandas.core.frame.DataFrame'>\n",
      "RangeIndex: 1296 entries, 0 to 1295\n",
      "Data columns (total 38 columns):\n",
      " #   Column              Non-Null Count  Dtype         \n",
      "---  ------              --------------  -----         \n",
      " 0   Date                1296 non-null   datetime64[ns]\n",
      " 1   000660.KS           1296 non-null   float64       \n",
      " 2   005930.KS           1296 non-null   float64       \n",
      " 3   AMD                 1296 non-null   float64       \n",
      " 4   AMZN                1296 non-null   float64       \n",
      " 5   ASML                1296 non-null   float64       \n",
      " 6   GOOG                1296 non-null   float64       \n",
      " 7   INTC                1296 non-null   float64       \n",
      " 8   MSFT                1296 non-null   float64       \n",
      " 9   MU                  1296 non-null   float64       \n",
      " 10  NVDA                1296 non-null   float64       \n",
      " 11  TSM                 1296 non-null   float64       \n",
      " 12  ^GSPC               1296 non-null   float64       \n",
      " 13  ^IXIC               1296 non-null   float64       \n",
      " 14  ^SOX                1296 non-null   float64       \n",
      " 15  000660.KS_chg       1295 non-null   float64       \n",
      " 16  005930.KS_chg       1295 non-null   float64       \n",
      " 17  AMD_chg             1295 non-null   float64       \n",
      " 18  AMZN_chg            1295 non-null   float64       \n",
      " 19  ASML_chg            1295 non-null   float64       \n",
      " 20  GOOG_chg            1295 non-null   float64       \n",
      " 21  INTC_chg            1295 non-null   float64       \n",
      " 22  MSFT_chg            1295 non-null   float64       \n",
      " 23  MU_chg              1295 non-null   float64       \n",
      " 24  NVDA_chg            1295 non-null   float64       \n",
      " 25  TSM_chg             1295 non-null   float64       \n",
      " 26  ^GSPC_chg           1295 non-null   float64       \n",
      " 27  ^IXIC_chg           1295 non-null   float64       \n",
      " 28  ^SOX_chg            1295 non-null   float64       \n",
      " 29  Action              29 non-null     float64       \n",
      " 30  Trans Total         150 non-null    float64       \n",
      " 31  surprise            20 non-null     object        \n",
      " 32  surprisePercentage  20 non-null     object        \n",
      " 33  total_short         376 non-null    float64       \n",
      " 34  perc_short          376 non-null    float64       \n",
      " 35  PE Ratio            13 non-null     float64       \n",
      " 36  Volume              1257 non-null   float64       \n",
      " 37  Interest Rate       1296 non-null   object        \n",
      "dtypes: datetime64[ns](1), float64(34), object(3)\n",
      "memory usage: 384.9+ KB\n",
      "None\n",
      "        Date     000660.KS     005930.KS        AMD       AMZN        ASML  \\\n",
      "0 2019-05-10  70162.523438  37687.656250  27.959999  94.499001  189.950531   \n",
      "1 2019-05-13  69313.796875  37468.031250  26.240000  91.134003  182.017609   \n",
      "2 2019-05-14  70351.148438  37468.031250  27.320000  92.005997  189.281448   \n",
      "3 2019-05-15  70256.835938  37380.187500  27.580000  93.557503  191.756927   \n",
      "4 2019-05-16  67804.921875  36501.683594  28.010000  95.378502  193.200150   \n",
      "\n",
      "        GOOG       INTC        MSFT         MU  ...  ^SOX_chg  Action  \\\n",
      "0  58.213501  40.513161  121.014084  38.244068  ...       NaN     NaN   \n",
      "1  56.601501  39.250404  117.415924  36.711952  ... -4.727937     NaN   \n",
      "2  56.021999  39.609940  118.729538  37.821766  ...  2.404628     NaN   \n",
      "3  58.210499  40.004547  120.401520  37.723545  ...  0.808830     NaN   \n",
      "4  58.949001  39.925625  123.181755  36.643200  ... -1.676866     NaN   \n",
      "\n",
      "   Trans Total  surprise  surprisePercentage  total_short  perc_short  \\\n",
      "0          NaN       NaN                 NaN          NaN         NaN   \n",
      "1          NaN       NaN                 NaN          NaN         NaN   \n",
      "2          NaN       NaN                 NaN          NaN         NaN   \n",
      "3          NaN       NaN                 NaN          NaN         NaN   \n",
      "4          NaN      0.02                  10          NaN         NaN   \n",
      "\n",
      "   PE Ratio      Volume  Interest Rate  \n",
      "0       NaN  56950000.0           2.38  \n",
      "1       NaN  65691200.0           2.38  \n",
      "2       NaN  52488000.0           2.38  \n",
      "3       NaN  50232000.0           2.40  \n",
      "4       NaN  78108800.0           2.39  \n",
      "\n",
      "[5 rows x 38 columns]\n"
     ]
    }
   ],
   "source": [
    "# Merge Interest Rate column into new_df\n",
    "new_df = pd.merge(new_df, ffr_df, on='Date', how='left')\n",
    "\n",
    "# Print to check\n",
    "print(new_df.info())\n",
    "print(new_df.head())"
   ]
  },
  {
   "cell_type": "markdown",
   "id": "996bbbb8",
   "metadata": {},
   "source": [
    "### SIMPLE MOVING AVERAGE (ALPHA VANTAGE)"
   ]
  },
  {
   "cell_type": "code",
   "execution_count": 45,
   "id": "4b7cbbf6",
   "metadata": {},
   "outputs": [],
   "source": [
    "# Set url to retrieve data\n",
    "url_sma50 = f'https://www.alphavantage.co/query?function=SMA&symbol=NVDA&interval=daily&time_period=50&series_type=open&apikey=JI8F8CG68TLZIDYU'\n",
    "\n",
    "#Retrieve data\n",
    "r = requests.get(url_sma50)\n",
    "sma50_data = r.json()"
   ]
  },
  {
   "cell_type": "code",
   "execution_count": 46,
   "id": "900d2188",
   "metadata": {},
   "outputs": [
    {
     "name": "stdout",
     "output_type": "stream",
     "text": [
      "dict_keys(['Meta Data', 'Technical Analysis: SMA'])\n"
     ]
    }
   ],
   "source": [
    "# Check keys\n",
    "print(sma50_data.keys())"
   ]
  },
  {
   "cell_type": "code",
   "execution_count": 47,
   "id": "baf5e046",
   "metadata": {},
   "outputs": [
    {
     "name": "stdout",
     "output_type": "stream",
     "text": [
      "    2024-05-13 2024-05-10 2024-05-09 2024-05-08 2024-05-07 2024-05-06  \\\n",
      "SMA   880.1211   878.0248   875.7819   873.1994   871.1784   868.8980   \n",
      "\n",
      "    2024-05-03 2024-05-02 2024-05-01 2024-04-30  ... 2000-01-25 2000-01-24  \\\n",
      "SMA   867.1773   864.6238   861.3345   858.7079  ...     0.7754     0.7699   \n",
      "\n",
      "    2000-01-21 2000-01-20 2000-01-19 2000-01-18 2000-01-14 2000-01-13  \\\n",
      "SMA     0.7632     0.7570     0.7500     0.7439     0.7375     0.7311   \n",
      "\n",
      "    2000-01-12 2000-01-11  \n",
      "SMA     0.7248     0.7173  \n",
      "\n",
      "[1 rows x 6123 columns]\n",
      "<class 'pandas.core.frame.DataFrame'>\n",
      "Index: 1 entries, SMA to SMA\n",
      "Columns: 6123 entries, 2024-05-13 to 2000-01-11\n",
      "dtypes: object(6123)\n",
      "memory usage: 47.8+ KB\n",
      "None\n"
     ]
    }
   ],
   "source": [
    "# Convert json into a DataFrame\n",
    "sma50_df = pd.DataFrame(sma50_data['Technical Analysis: SMA'])\n",
    "\n",
    "# Print to check\n",
    "print(sma50_df)\n",
    "print(sma50_df.info())"
   ]
  },
  {
   "cell_type": "code",
   "execution_count": 48,
   "id": "c3fd7d77",
   "metadata": {},
   "outputs": [
    {
     "name": "stdout",
     "output_type": "stream",
     "text": [
      "        variable     value\n",
      "0     2024-05-13  880.1211\n",
      "1     2024-05-10  878.0248\n",
      "2     2024-05-09  875.7819\n",
      "3     2024-05-08  873.1994\n",
      "4     2024-05-07  871.1784\n",
      "...          ...       ...\n",
      "6118  2000-01-18    0.7439\n",
      "6119  2000-01-14    0.7375\n",
      "6120  2000-01-13    0.7311\n",
      "6121  2000-01-12    0.7248\n",
      "6122  2000-01-11    0.7173\n",
      "\n",
      "[6123 rows x 2 columns]\n",
      "<class 'pandas.core.frame.DataFrame'>\n",
      "RangeIndex: 6123 entries, 0 to 6122\n",
      "Data columns (total 2 columns):\n",
      " #   Column    Non-Null Count  Dtype \n",
      "---  ------    --------------  ----- \n",
      " 0   variable  6123 non-null   object\n",
      " 1   value     6123 non-null   object\n",
      "dtypes: object(2)\n",
      "memory usage: 95.8+ KB\n",
      "None\n"
     ]
    }
   ],
   "source": [
    "# Melt sma50_df\n",
    "sma50_df = pd.melt(sma50_df)\n",
    "\n",
    "# Print to check\n",
    "print(sma50_df)\n",
    "print(sma50_df.info())"
   ]
  },
  {
   "cell_type": "code",
   "execution_count": 49,
   "id": "b55ffa54",
   "metadata": {},
   "outputs": [
    {
     "name": "stdout",
     "output_type": "stream",
     "text": [
      "<class 'pandas.core.frame.DataFrame'>\n",
      "RangeIndex: 6123 entries, 0 to 6122\n",
      "Data columns (total 2 columns):\n",
      " #   Column   Non-Null Count  Dtype         \n",
      "---  ------   --------------  -----         \n",
      " 0   Date     6123 non-null   datetime64[ns]\n",
      " 1   50D SMA  6123 non-null   object        \n",
      "dtypes: datetime64[ns](1), object(1)\n",
      "memory usage: 95.8+ KB\n",
      "None\n"
     ]
    }
   ],
   "source": [
    "# Rename columns\n",
    "sma50_df.rename(columns={'variable':'Date','value':'50D SMA'},inplace=True)\n",
    "\n",
    "# Convert Date to datetime format\n",
    "sma50_df['Date'] = pd.to_datetime(sma50_df['Date'])\n",
    "\n",
    "# Print to check\n",
    "print(sma50_df.info())"
   ]
  },
  {
   "cell_type": "code",
   "execution_count": 50,
   "id": "6589cd6c",
   "metadata": {},
   "outputs": [],
   "source": [
    "# Set url to retrieve data\n",
    "url_sma200 = f'https://www.alphavantage.co/query?function=SMA&symbol=NVDA&interval=daily&time_period=200&series_type=open&apikey=JI8F8CG68TLZIDYU'\n",
    "\n",
    "# Retrieve data\n",
    "r = requests.get(url_sma200)\n",
    "sma200_data = r.json()"
   ]
  },
  {
   "cell_type": "code",
   "execution_count": 51,
   "id": "b08919bf",
   "metadata": {},
   "outputs": [
    {
     "name": "stdout",
     "output_type": "stream",
     "text": [
      "    2024-05-13 2024-05-10 2024-05-09 2024-05-08 2024-05-07 2024-05-06  \\\n",
      "SMA   602.2055   600.0071   597.7924   595.5125   593.2744   591.0084   \n",
      "\n",
      "    2024-05-03 2024-05-02 2024-05-01 2024-04-30  ... 2000-08-28 2000-08-25  \\\n",
      "SMA   588.8638   586.8470   584.9591   583.0192  ...     1.6549     1.6432   \n",
      "\n",
      "    2000-08-24 2000-08-23 2000-08-22 2000-08-21 2000-08-18 2000-08-17  \\\n",
      "SMA     1.6314     1.6200     1.6093     1.5980     1.5854     1.5737   \n",
      "\n",
      "    2000-08-16 2000-08-15  \n",
      "SMA     1.5622     1.5500  \n",
      "\n",
      "[1 rows x 5973 columns]\n",
      "<class 'pandas.core.frame.DataFrame'>\n",
      "Index: 1 entries, SMA to SMA\n",
      "Columns: 5973 entries, 2024-05-13 to 2000-08-15\n",
      "dtypes: object(5973)\n",
      "memory usage: 46.7+ KB\n",
      "None\n"
     ]
    }
   ],
   "source": [
    "# Convert json into a DataFrame\n",
    "sma200_df = pd.DataFrame(sma200_data['Technical Analysis: SMA'])\n",
    "\n",
    "# Print to check\n",
    "print(sma200_df)\n",
    "print(sma200_df.info())"
   ]
  },
  {
   "cell_type": "code",
   "execution_count": 52,
   "id": "98ab4358",
   "metadata": {},
   "outputs": [
    {
     "name": "stdout",
     "output_type": "stream",
     "text": [
      "        variable     value\n",
      "0     2024-05-13  602.2055\n",
      "1     2024-05-10  600.0071\n",
      "2     2024-05-09  597.7924\n",
      "3     2024-05-08  595.5125\n",
      "4     2024-05-07  593.2744\n",
      "...          ...       ...\n",
      "5968  2000-08-21    1.5980\n",
      "5969  2000-08-18    1.5854\n",
      "5970  2000-08-17    1.5737\n",
      "5971  2000-08-16    1.5622\n",
      "5972  2000-08-15    1.5500\n",
      "\n",
      "[5973 rows x 2 columns]\n",
      "<class 'pandas.core.frame.DataFrame'>\n",
      "RangeIndex: 5973 entries, 0 to 5972\n",
      "Data columns (total 2 columns):\n",
      " #   Column    Non-Null Count  Dtype \n",
      "---  ------    --------------  ----- \n",
      " 0   variable  5973 non-null   object\n",
      " 1   value     5973 non-null   object\n",
      "dtypes: object(2)\n",
      "memory usage: 93.5+ KB\n",
      "None\n"
     ]
    }
   ],
   "source": [
    "# Melt sma200_df\n",
    "sma200_df = pd.melt(sma200_df)\n",
    "\n",
    "# Print to check\n",
    "print(sma200_df)\n",
    "print(sma200_df.info())"
   ]
  },
  {
   "cell_type": "code",
   "execution_count": 53,
   "id": "6d810863",
   "metadata": {},
   "outputs": [
    {
     "name": "stdout",
     "output_type": "stream",
     "text": [
      "<class 'pandas.core.frame.DataFrame'>\n",
      "RangeIndex: 5973 entries, 0 to 5972\n",
      "Data columns (total 2 columns):\n",
      " #   Column    Non-Null Count  Dtype         \n",
      "---  ------    --------------  -----         \n",
      " 0   Date      5973 non-null   datetime64[ns]\n",
      " 1   200D SMA  5973 non-null   object        \n",
      "dtypes: datetime64[ns](1), object(1)\n",
      "memory usage: 93.5+ KB\n",
      "None\n"
     ]
    }
   ],
   "source": [
    "# Rename columns\n",
    "sma200_df.rename(columns={'variable':'Date','value':'200D SMA'},inplace=True)\n",
    "\n",
    "# Convert Date to datetime format\n",
    "sma200_df['Date'] = pd.to_datetime(sma200_df['Date'])\n",
    "\n",
    "# Print to check\n",
    "print(sma200_df.info())"
   ]
  },
  {
   "cell_type": "code",
   "execution_count": 54,
   "id": "48c06a1a",
   "metadata": {},
   "outputs": [
    {
     "name": "stdout",
     "output_type": "stream",
     "text": [
      "<class 'pandas.core.frame.DataFrame'>\n",
      "RangeIndex: 1296 entries, 0 to 1295\n",
      "Data columns (total 40 columns):\n",
      " #   Column              Non-Null Count  Dtype         \n",
      "---  ------              --------------  -----         \n",
      " 0   Date                1296 non-null   datetime64[ns]\n",
      " 1   000660.KS           1296 non-null   float64       \n",
      " 2   005930.KS           1296 non-null   float64       \n",
      " 3   AMD                 1296 non-null   float64       \n",
      " 4   AMZN                1296 non-null   float64       \n",
      " 5   ASML                1296 non-null   float64       \n",
      " 6   GOOG                1296 non-null   float64       \n",
      " 7   INTC                1296 non-null   float64       \n",
      " 8   MSFT                1296 non-null   float64       \n",
      " 9   MU                  1296 non-null   float64       \n",
      " 10  NVDA                1296 non-null   float64       \n",
      " 11  TSM                 1296 non-null   float64       \n",
      " 12  ^GSPC               1296 non-null   float64       \n",
      " 13  ^IXIC               1296 non-null   float64       \n",
      " 14  ^SOX                1296 non-null   float64       \n",
      " 15  000660.KS_chg       1295 non-null   float64       \n",
      " 16  005930.KS_chg       1295 non-null   float64       \n",
      " 17  AMD_chg             1295 non-null   float64       \n",
      " 18  AMZN_chg            1295 non-null   float64       \n",
      " 19  ASML_chg            1295 non-null   float64       \n",
      " 20  GOOG_chg            1295 non-null   float64       \n",
      " 21  INTC_chg            1295 non-null   float64       \n",
      " 22  MSFT_chg            1295 non-null   float64       \n",
      " 23  MU_chg              1295 non-null   float64       \n",
      " 24  NVDA_chg            1295 non-null   float64       \n",
      " 25  TSM_chg             1295 non-null   float64       \n",
      " 26  ^GSPC_chg           1295 non-null   float64       \n",
      " 27  ^IXIC_chg           1295 non-null   float64       \n",
      " 28  ^SOX_chg            1295 non-null   float64       \n",
      " 29  Action              29 non-null     float64       \n",
      " 30  Trans Total         150 non-null    float64       \n",
      " 31  surprise            20 non-null     object        \n",
      " 32  surprisePercentage  20 non-null     object        \n",
      " 33  total_short         376 non-null    float64       \n",
      " 34  perc_short          376 non-null    float64       \n",
      " 35  PE Ratio            13 non-null     float64       \n",
      " 36  Volume              1257 non-null   float64       \n",
      " 37  Interest Rate       1296 non-null   object        \n",
      " 38  50D SMA             1257 non-null   object        \n",
      " 39  200D SMA            1257 non-null   object        \n",
      "dtypes: datetime64[ns](1), float64(34), object(5)\n",
      "memory usage: 405.1+ KB\n",
      "None\n",
      "        Date     000660.KS     005930.KS        AMD       AMZN        ASML  \\\n",
      "0 2019-05-10  70162.523438  37687.656250  27.959999  94.499001  189.950531   \n",
      "1 2019-05-13  69313.796875  37468.031250  26.240000  91.134003  182.017609   \n",
      "2 2019-05-14  70351.148438  37468.031250  27.320000  92.005997  189.281448   \n",
      "3 2019-05-15  70256.835938  37380.187500  27.580000  93.557503  191.756927   \n",
      "4 2019-05-16  67804.921875  36501.683594  28.010000  95.378502  193.200150   \n",
      "\n",
      "        GOOG       INTC        MSFT         MU  ...  Trans Total  surprise  \\\n",
      "0  58.213501  40.513161  121.014084  38.244068  ...          NaN       NaN   \n",
      "1  56.601501  39.250404  117.415924  36.711952  ...          NaN       NaN   \n",
      "2  56.021999  39.609940  118.729538  37.821766  ...          NaN       NaN   \n",
      "3  58.210499  40.004547  120.401520  37.723545  ...          NaN       NaN   \n",
      "4  58.949001  39.925625  123.181755  36.643200  ...          NaN      0.02   \n",
      "\n",
      "   surprisePercentage  total_short  perc_short  PE Ratio      Volume  \\\n",
      "0                 NaN          NaN         NaN       NaN  56950000.0   \n",
      "1                 NaN          NaN         NaN       NaN  65691200.0   \n",
      "2                 NaN          NaN         NaN       NaN  52488000.0   \n",
      "3                 NaN          NaN         NaN       NaN  50232000.0   \n",
      "4                  10          NaN         NaN       NaN  78108800.0   \n",
      "\n",
      "   Interest Rate  50D SMA  200D SMA  \n",
      "0           2.38  43.9478   48.7636  \n",
      "1           2.38  43.9837   48.6581  \n",
      "2           2.38  43.9939   48.5460  \n",
      "3           2.40  44.0120   48.4270  \n",
      "4           2.39  44.0279   48.3120  \n",
      "\n",
      "[5 rows x 40 columns]\n"
     ]
    }
   ],
   "source": [
    "# Merge 50d SMA and 200d SMA columns into new_df\n",
    "new_df = pd.merge(new_df, sma50_df, on='Date', how='left')\n",
    "new_df = pd.merge(new_df, sma200_df, on='Date', how='left')\n",
    "\n",
    "# Print to check\n",
    "print(new_df.info())\n",
    "print(new_df.head())"
   ]
  },
  {
   "cell_type": "code",
   "execution_count": 55,
   "id": "237ce512",
   "metadata": {},
   "outputs": [
    {
     "name": "stdout",
     "output_type": "stream",
     "text": [
      "<class 'pandas.core.frame.DataFrame'>\n",
      "RangeIndex: 1296 entries, 0 to 1295\n",
      "Data columns (total 40 columns):\n",
      " #   Column          Non-Null Count  Dtype         \n",
      "---  ------          --------------  -----         \n",
      " 0   Date            1296 non-null   datetime64[ns]\n",
      " 1   000660.KS       1296 non-null   float64       \n",
      " 2   005930.KS       1296 non-null   float64       \n",
      " 3   AMD             1296 non-null   float64       \n",
      " 4   AMZN            1296 non-null   float64       \n",
      " 5   ASML            1296 non-null   float64       \n",
      " 6   GOOG            1296 non-null   float64       \n",
      " 7   INTC            1296 non-null   float64       \n",
      " 8   MSFT            1296 non-null   float64       \n",
      " 9   MU              1296 non-null   float64       \n",
      " 10  NVDA            1296 non-null   float64       \n",
      " 11  TSM             1296 non-null   float64       \n",
      " 12  ^GSPC           1296 non-null   float64       \n",
      " 13  ^IXIC           1296 non-null   float64       \n",
      " 14  ^SOX            1296 non-null   float64       \n",
      " 15  000660.KS_chg   1295 non-null   float64       \n",
      " 16  005930.KS_chg   1295 non-null   float64       \n",
      " 17  AMD_chg         1295 non-null   float64       \n",
      " 18  AMZN_chg        1295 non-null   float64       \n",
      " 19  ASML_chg        1295 non-null   float64       \n",
      " 20  GOOG_chg        1295 non-null   float64       \n",
      " 21  INTC_chg        1295 non-null   float64       \n",
      " 22  MSFT_chg        1295 non-null   float64       \n",
      " 23  MU_chg          1295 non-null   float64       \n",
      " 24  NVDA_chg        1295 non-null   float64       \n",
      " 25  TSM_chg         1295 non-null   float64       \n",
      " 26  ^GSPC_chg       1295 non-null   float64       \n",
      " 27  ^IXIC_chg       1295 non-null   float64       \n",
      " 28  ^SOX_chg        1295 non-null   float64       \n",
      " 29  Analyst Action  29 non-null     float64       \n",
      " 30  Insider Sales   150 non-null    float64       \n",
      " 31  Surprise        20 non-null     object        \n",
      " 32  Surprise Perc   20 non-null     object        \n",
      " 33  Short           376 non-null    float64       \n",
      " 34  Short Perc      376 non-null    float64       \n",
      " 35  PE Ratio        13 non-null     float64       \n",
      " 36  Volume          1257 non-null   float64       \n",
      " 37  Interest Rate   1296 non-null   object        \n",
      " 38  50D SMA         1257 non-null   object        \n",
      " 39  200D SMA        1257 non-null   object        \n",
      "dtypes: datetime64[ns](1), float64(34), object(5)\n",
      "memory usage: 405.1+ KB\n",
      "None\n",
      "                                Date      000660.KS     005930.KS  \\\n",
      "count                           1296    1296.000000   1296.000000   \n",
      "mean   2021-11-07 02:08:53.333333248  102386.678388  61856.686906   \n",
      "min              2019-05-10 00:00:00   59506.125000  36194.207031   \n",
      "25%              2020-08-09 06:00:00   80775.109375  52930.635742   \n",
      "50%              2021-11-08 12:00:00   96357.492188  63948.982422   \n",
      "75%              2023-02-03 18:00:00  118912.234375  72269.421875   \n",
      "max              2024-05-07 00:00:00  188400.000000  85433.320312   \n",
      "std                              NaN   25169.645070  12212.170233   \n",
      "\n",
      "               AMD         AMZN         ASML         GOOG         INTC  \\\n",
      "count  1296.000000  1296.000000  1296.000000  1296.000000  1296.000000   \n",
      "mean     88.387515   133.563939   537.252602   105.171752    42.944712   \n",
      "min      26.240000    81.820000   178.710602    51.811501    23.974880   \n",
      "25%      58.929999   101.145002   355.048157    75.586874    35.382508   \n",
      "50%      86.054996   135.852745   574.086029   106.237499    44.328825   \n",
      "75%     108.599997   161.250126   675.171402   133.261372    50.047869   \n",
      "max     211.380005   189.050003  1045.216309   173.690002    62.477161   \n",
      "std      37.367573    31.028342   205.146250    30.474014     9.083028   \n",
      "\n",
      "              MSFT           MU  ...      TSM_chg    ^GSPC_chg    ^IXIC_chg  \\\n",
      "count  1296.000000  1296.000000  ...  1295.000000  1295.000000  1295.000000   \n",
      "mean    252.425658    64.841995  ...     0.127955     0.054196     0.068224   \n",
      "min     114.497032    31.850414  ...   -14.034073   -11.984055   -12.321331   \n",
      "25%     199.835522    50.292325  ...    -1.165280    -0.482405    -0.641470   \n",
      "50%     249.961426    63.343040  ...     0.000000     0.053307     0.088117   \n",
      "75%     304.565361    76.989893  ...     1.259817     0.709994     0.904741   \n",
      "max     429.369995   128.009995  ...    12.652244     9.382774     9.345998   \n",
      "std      77.560554    17.546605  ...     2.268545     1.321957     1.564421   \n",
      "\n",
      "          ^SOX_chg  Analyst Action  Insider Sales         Short  Short Perc  \\\n",
      "count  1295.000000       29.000000   1.500000e+02  3.760000e+02  376.000000   \n",
      "mean      0.116327        0.413793   1.744381e+07  1.553663e+07    0.483336   \n",
      "min     -15.896286       -1.000000   2.504500e+04  5.638565e+06    0.286587   \n",
      "25%      -1.126243       -1.000000   1.676132e+06  1.159702e+07    0.448632   \n",
      "50%       0.034181        1.000000   6.627940e+06  1.425931e+07    0.476862   \n",
      "75%       1.435605        1.000000   2.276916e+07  1.801031e+07    0.505416   \n",
      "max      11.154737        3.000000   1.742460e+08  4.668580e+07    0.701463   \n",
      "std       2.261090        1.180715   2.765444e+07  5.565753e+06    0.058325   \n",
      "\n",
      "         PE Ratio        Volume  \n",
      "count   13.000000  1.257000e+03  \n",
      "mean    67.039231  4.567608e+07  \n",
      "min     37.870000  9.788400e+06  \n",
      "25%     52.100000  3.238480e+07  \n",
      "50%     57.390000  4.289440e+07  \n",
      "75%     75.840000  5.563840e+07  \n",
      "max    112.850000  1.543911e+08  \n",
      "std     23.013431  1.852833e+07  \n",
      "\n",
      "[8 rows x 35 columns]\n"
     ]
    }
   ],
   "source": [
    "# Rename columns\n",
    "column_names = {'Action': 'Analyst Action',\n",
    "                'Trans Total': 'Insider Sales',\n",
    "                'surprise': 'Surprise',\n",
    "                'surprisePercentage': 'Surprise Perc',\n",
    "                'total_short':'Short',\n",
    "                'perc_short': 'Short Perc'}\n",
    "new_df.rename(columns=column_names, inplace=True)\n",
    "\n",
    "# Print to check\n",
    "print(new_df.info())\n",
    "print(new_df.describe())"
   ]
  },
  {
   "cell_type": "code",
   "execution_count": 56,
   "id": "3fc58c74",
   "metadata": {},
   "outputs": [],
   "source": [
    "# Export new_df to csv\n",
    "new_df.to_csv('compiled.csv')"
   ]
  }
 ],
 "metadata": {
  "kernelspec": {
   "display_name": "Python 3 (ipykernel)",
   "language": "python",
   "name": "python3"
  },
  "language_info": {
   "codemirror_mode": {
    "name": "ipython",
    "version": 3
   },
   "file_extension": ".py",
   "mimetype": "text/x-python",
   "name": "python",
   "nbconvert_exporter": "python",
   "pygments_lexer": "ipython3",
   "version": "3.11.7"
  }
 },
 "nbformat": 4,
 "nbformat_minor": 5
}
